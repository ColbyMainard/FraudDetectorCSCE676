{
  "nbformat": 4,
  "nbformat_minor": 0,
  "metadata": {
    "colab": {
      "name": "Credit Card Analysis_FrequentItemSet.ipynb",
      "provenance": [],
      "collapsed_sections": []
    },
    "interpreter": {
      "hash": "b4a56ac7d8a0ccd50127e345ccc30f7d61dbad599a11a46d4752f0ccdb34e3a5"
    },
    "kernelspec": {
      "display_name": "Python 3",
      "language": "python",
      "name": "python3"
    },
    "language_info": {
      "codemirror_mode": {
        "name": "ipython",
        "version": 3
      },
      "file_extension": ".py",
      "mimetype": "text/x-python",
      "name": "python",
      "nbconvert_exporter": "python",
      "pygments_lexer": "ipython3",
      "version": "3.7.6"
    }
  },
  "cells": [
    {
      "cell_type": "markdown",
      "metadata": {
        "id": "8ubqczoaPZ2N"
      },
      "source": [
        "# credit card transaction fraud"
      ]
    },
    {
      "cell_type": "markdown",
      "metadata": {
        "id": "ovYqiPkgPZ2P"
      },
      "source": [
        "# loading data"
      ]
    },
    {
      "cell_type": "code",
      "metadata": {
        "id": "ZtegtD3OPZ2Q"
      },
      "source": [
        "import pandas as pd\n",
        "import os\n",
        "\n",
        "training_data_path = \"fraudTrain.csv\"\n",
        "test_data_path = \"fraudTest.csv\"\n",
        "\n",
        "training_data_raw = pd.read_csv(training_data_path)\n",
        "test_data_raw = pd.read_csv(test_data_path)"
      ],
      "execution_count": 1,
      "outputs": []
    },
    {
      "cell_type": "markdown",
      "metadata": {
        "id": "C20rArwaPZ2S"
      },
      "source": [
        "# cleaning data"
      ]
    },
    {
      "cell_type": "code",
      "metadata": {
        "id": "ddy3TttJPZ2T"
      },
      "source": [
        "#data cleaning here\n",
        "training_data_clean = {\"cc_num\": [], \"merchant\": [], \"category\": [], \"amt\": [], \"first\": [], \"last\": [], \"gender\": [], \"lat\": [], \"long\": [], \"city_pop\": [], \"job\": [], \"unix_time\": [], \"merch_lat\": [], \"merch_long\": [], \"is_fraud\": []}\n",
        "for idx in range(len(training_data_raw[\"cc_num\"])):\n",
        "    for key in training_data_clean.keys():\n",
        "        training_data_clean[key].append(training_data_raw[key][idx])\n",
        "training_data_clean = pd.DataFrame.from_dict(training_data_clean)\n",
        "training_data_clean.to_csv(\"credit_card_fraud_clean_train.csv\", index=False)\n",
        "\n",
        "test_data_clean = {\"cc_num\": [], \"merchant\": [], \"category\": [], \"amt\": [], \"first\": [], \"last\": [], \"gender\": [], \"lat\": [], \"long\": [], \"city_pop\": [], \"job\": [], \"unix_time\": [], \"merch_lat\": [], \"merch_long\": [], \"is_fraud\": []}\n",
        "for idx in range(len(test_data_raw[\"cc_num\"])):\n",
        "    for key in test_data_clean.keys():\n",
        "        test_data_clean[key].append(test_data_raw[key][idx])\n",
        "test_data_clean = pd.DataFrame.from_dict(test_data_clean)\n",
        "test_data_clean.to_csv(\"credit_card_fraud_clean_test.csv\", index=False)"
      ],
      "execution_count": 2,
      "outputs": []
    },
    {
      "cell_type": "code",
      "metadata": {
        "colab": {
          "base_uri": "https://localhost:8080/",
          "height": 701
        },
        "id": "ZlDfv4Zs7hDb",
        "outputId": "cdfa5c96-53e2-4358-87aa-2f62927bc1ef"
      },
      "source": [
        "training_data_clean"
      ],
      "execution_count": 3,
      "outputs": [
        {
          "output_type": "execute_result",
          "data": {
            "text/html": [
              "<div>\n",
              "<style scoped>\n",
              "    .dataframe tbody tr th:only-of-type {\n",
              "        vertical-align: middle;\n",
              "    }\n",
              "\n",
              "    .dataframe tbody tr th {\n",
              "        vertical-align: top;\n",
              "    }\n",
              "\n",
              "    .dataframe thead th {\n",
              "        text-align: right;\n",
              "    }\n",
              "</style>\n",
              "<table border=\"1\" class=\"dataframe\">\n",
              "  <thead>\n",
              "    <tr style=\"text-align: right;\">\n",
              "      <th></th>\n",
              "      <th>cc_num</th>\n",
              "      <th>merchant</th>\n",
              "      <th>category</th>\n",
              "      <th>amt</th>\n",
              "      <th>first</th>\n",
              "      <th>last</th>\n",
              "      <th>gender</th>\n",
              "      <th>lat</th>\n",
              "      <th>long</th>\n",
              "      <th>city_pop</th>\n",
              "      <th>job</th>\n",
              "      <th>unix_time</th>\n",
              "      <th>merch_lat</th>\n",
              "      <th>merch_long</th>\n",
              "      <th>is_fraud</th>\n",
              "    </tr>\n",
              "  </thead>\n",
              "  <tbody>\n",
              "    <tr>\n",
              "      <th>0</th>\n",
              "      <td>2703186189652095</td>\n",
              "      <td>fraud_Rippin, Kub and Mann</td>\n",
              "      <td>misc_net</td>\n",
              "      <td>4.97</td>\n",
              "      <td>Jennifer</td>\n",
              "      <td>Banks</td>\n",
              "      <td>F</td>\n",
              "      <td>36.0788</td>\n",
              "      <td>-81.1781</td>\n",
              "      <td>3495</td>\n",
              "      <td>Psychologist, counselling</td>\n",
              "      <td>1325376018</td>\n",
              "      <td>36.011293</td>\n",
              "      <td>-82.048315</td>\n",
              "      <td>0</td>\n",
              "    </tr>\n",
              "    <tr>\n",
              "      <th>1</th>\n",
              "      <td>630423337322</td>\n",
              "      <td>fraud_Heller, Gutmann and Zieme</td>\n",
              "      <td>grocery_pos</td>\n",
              "      <td>107.23</td>\n",
              "      <td>Stephanie</td>\n",
              "      <td>Gill</td>\n",
              "      <td>F</td>\n",
              "      <td>48.8878</td>\n",
              "      <td>-118.2105</td>\n",
              "      <td>149</td>\n",
              "      <td>Special educational needs teacher</td>\n",
              "      <td>1325376044</td>\n",
              "      <td>49.159047</td>\n",
              "      <td>-118.186462</td>\n",
              "      <td>0</td>\n",
              "    </tr>\n",
              "    <tr>\n",
              "      <th>2</th>\n",
              "      <td>38859492057661</td>\n",
              "      <td>fraud_Lind-Buckridge</td>\n",
              "      <td>entertainment</td>\n",
              "      <td>220.11</td>\n",
              "      <td>Edward</td>\n",
              "      <td>Sanchez</td>\n",
              "      <td>M</td>\n",
              "      <td>42.1808</td>\n",
              "      <td>-112.2620</td>\n",
              "      <td>4154</td>\n",
              "      <td>Nature conservation officer</td>\n",
              "      <td>1325376051</td>\n",
              "      <td>43.150704</td>\n",
              "      <td>-112.154481</td>\n",
              "      <td>0</td>\n",
              "    </tr>\n",
              "    <tr>\n",
              "      <th>3</th>\n",
              "      <td>3534093764340240</td>\n",
              "      <td>fraud_Kutch, Hermiston and Farrell</td>\n",
              "      <td>gas_transport</td>\n",
              "      <td>45.00</td>\n",
              "      <td>Jeremy</td>\n",
              "      <td>White</td>\n",
              "      <td>M</td>\n",
              "      <td>46.2306</td>\n",
              "      <td>-112.1138</td>\n",
              "      <td>1939</td>\n",
              "      <td>Patent attorney</td>\n",
              "      <td>1325376076</td>\n",
              "      <td>47.034331</td>\n",
              "      <td>-112.561071</td>\n",
              "      <td>0</td>\n",
              "    </tr>\n",
              "    <tr>\n",
              "      <th>4</th>\n",
              "      <td>375534208663984</td>\n",
              "      <td>fraud_Keeling-Crist</td>\n",
              "      <td>misc_pos</td>\n",
              "      <td>41.96</td>\n",
              "      <td>Tyler</td>\n",
              "      <td>Garcia</td>\n",
              "      <td>M</td>\n",
              "      <td>38.4207</td>\n",
              "      <td>-79.4629</td>\n",
              "      <td>99</td>\n",
              "      <td>Dance movement psychotherapist</td>\n",
              "      <td>1325376186</td>\n",
              "      <td>38.674999</td>\n",
              "      <td>-78.632459</td>\n",
              "      <td>0</td>\n",
              "    </tr>\n",
              "    <tr>\n",
              "      <th>...</th>\n",
              "      <td>...</td>\n",
              "      <td>...</td>\n",
              "      <td>...</td>\n",
              "      <td>...</td>\n",
              "      <td>...</td>\n",
              "      <td>...</td>\n",
              "      <td>...</td>\n",
              "      <td>...</td>\n",
              "      <td>...</td>\n",
              "      <td>...</td>\n",
              "      <td>...</td>\n",
              "      <td>...</td>\n",
              "      <td>...</td>\n",
              "      <td>...</td>\n",
              "      <td>...</td>\n",
              "    </tr>\n",
              "    <tr>\n",
              "      <th>1296670</th>\n",
              "      <td>30263540414123</td>\n",
              "      <td>fraud_Reichel Inc</td>\n",
              "      <td>entertainment</td>\n",
              "      <td>15.56</td>\n",
              "      <td>Erik</td>\n",
              "      <td>Patterson</td>\n",
              "      <td>M</td>\n",
              "      <td>37.7175</td>\n",
              "      <td>-112.4777</td>\n",
              "      <td>258</td>\n",
              "      <td>Geoscientist</td>\n",
              "      <td>1371816728</td>\n",
              "      <td>36.841266</td>\n",
              "      <td>-111.690765</td>\n",
              "      <td>0</td>\n",
              "    </tr>\n",
              "    <tr>\n",
              "      <th>1296671</th>\n",
              "      <td>6011149206456997</td>\n",
              "      <td>fraud_Abernathy and Sons</td>\n",
              "      <td>food_dining</td>\n",
              "      <td>51.70</td>\n",
              "      <td>Jeffrey</td>\n",
              "      <td>White</td>\n",
              "      <td>M</td>\n",
              "      <td>39.2667</td>\n",
              "      <td>-77.5101</td>\n",
              "      <td>100</td>\n",
              "      <td>Production assistant, television</td>\n",
              "      <td>1371816739</td>\n",
              "      <td>38.906881</td>\n",
              "      <td>-78.246528</td>\n",
              "      <td>0</td>\n",
              "    </tr>\n",
              "    <tr>\n",
              "      <th>1296672</th>\n",
              "      <td>3514865930894695</td>\n",
              "      <td>fraud_Stiedemann Ltd</td>\n",
              "      <td>food_dining</td>\n",
              "      <td>105.93</td>\n",
              "      <td>Christopher</td>\n",
              "      <td>Castaneda</td>\n",
              "      <td>M</td>\n",
              "      <td>32.9396</td>\n",
              "      <td>-105.8189</td>\n",
              "      <td>899</td>\n",
              "      <td>Naval architect</td>\n",
              "      <td>1371816752</td>\n",
              "      <td>33.619513</td>\n",
              "      <td>-105.130529</td>\n",
              "      <td>0</td>\n",
              "    </tr>\n",
              "    <tr>\n",
              "      <th>1296673</th>\n",
              "      <td>2720012583106919</td>\n",
              "      <td>fraud_Reinger, Weissnat and Strosin</td>\n",
              "      <td>food_dining</td>\n",
              "      <td>74.90</td>\n",
              "      <td>Joseph</td>\n",
              "      <td>Murray</td>\n",
              "      <td>M</td>\n",
              "      <td>43.3526</td>\n",
              "      <td>-102.5411</td>\n",
              "      <td>1126</td>\n",
              "      <td>Volunteer coordinator</td>\n",
              "      <td>1371816816</td>\n",
              "      <td>42.788940</td>\n",
              "      <td>-103.241160</td>\n",
              "      <td>0</td>\n",
              "    </tr>\n",
              "    <tr>\n",
              "      <th>1296674</th>\n",
              "      <td>4292902571056973207</td>\n",
              "      <td>fraud_Langosh, Wintheiser and Hyatt</td>\n",
              "      <td>food_dining</td>\n",
              "      <td>4.30</td>\n",
              "      <td>Jeffrey</td>\n",
              "      <td>Smith</td>\n",
              "      <td>M</td>\n",
              "      <td>45.8433</td>\n",
              "      <td>-113.8748</td>\n",
              "      <td>218</td>\n",
              "      <td>Therapist, horticultural</td>\n",
              "      <td>1371816817</td>\n",
              "      <td>46.565983</td>\n",
              "      <td>-114.186110</td>\n",
              "      <td>0</td>\n",
              "    </tr>\n",
              "  </tbody>\n",
              "</table>\n",
              "<p>1296675 rows × 15 columns</p>\n",
              "</div>"
            ],
            "text/plain": [
              "                      cc_num  ... is_fraud\n",
              "0           2703186189652095  ...        0\n",
              "1               630423337322  ...        0\n",
              "2             38859492057661  ...        0\n",
              "3           3534093764340240  ...        0\n",
              "4            375534208663984  ...        0\n",
              "...                      ...  ...      ...\n",
              "1296670       30263540414123  ...        0\n",
              "1296671     6011149206456997  ...        0\n",
              "1296672     3514865930894695  ...        0\n",
              "1296673     2720012583106919  ...        0\n",
              "1296674  4292902571056973207  ...        0\n",
              "\n",
              "[1296675 rows x 15 columns]"
            ]
          },
          "metadata": {},
          "execution_count": 3
        }
      ]
    },
    {
      "cell_type": "code",
      "metadata": {
        "id": "5aOGc62X7hCJ"
      },
      "source": [
        "fraud_data = training_data_clean.loc[training_data_clean['is_fraud'] == 1]\n",
        "fraud_data = fraud_data[['cc_num', 'merchant', 'category', 'job']]"
      ],
      "execution_count": 4,
      "outputs": []
    },
    {
      "cell_type": "code",
      "metadata": {
        "colab": {
          "base_uri": "https://localhost:8080/",
          "height": 424
        },
        "id": "kJ2Uu0c59zzs",
        "outputId": "bc5fc43f-e674-478a-dfa2-e8edad6f89c7"
      },
      "source": [
        "fraud_data"
      ],
      "execution_count": 5,
      "outputs": [
        {
          "output_type": "execute_result",
          "data": {
            "text/html": [
              "<div>\n",
              "<style scoped>\n",
              "    .dataframe tbody tr th:only-of-type {\n",
              "        vertical-align: middle;\n",
              "    }\n",
              "\n",
              "    .dataframe tbody tr th {\n",
              "        vertical-align: top;\n",
              "    }\n",
              "\n",
              "    .dataframe thead th {\n",
              "        text-align: right;\n",
              "    }\n",
              "</style>\n",
              "<table border=\"1\" class=\"dataframe\">\n",
              "  <thead>\n",
              "    <tr style=\"text-align: right;\">\n",
              "      <th></th>\n",
              "      <th>cc_num</th>\n",
              "      <th>merchant</th>\n",
              "      <th>category</th>\n",
              "      <th>job</th>\n",
              "    </tr>\n",
              "  </thead>\n",
              "  <tbody>\n",
              "    <tr>\n",
              "      <th>2449</th>\n",
              "      <td>4613314721966</td>\n",
              "      <td>fraud_Rutherford-Mertz</td>\n",
              "      <td>grocery_pos</td>\n",
              "      <td>Soil scientist</td>\n",
              "    </tr>\n",
              "    <tr>\n",
              "      <th>2472</th>\n",
              "      <td>340187018810220</td>\n",
              "      <td>fraud_Jenkins, Hauck and Friesen</td>\n",
              "      <td>gas_transport</td>\n",
              "      <td>Horticultural consultant</td>\n",
              "    </tr>\n",
              "    <tr>\n",
              "      <th>2523</th>\n",
              "      <td>340187018810220</td>\n",
              "      <td>fraud_Goodwin-Nitzsche</td>\n",
              "      <td>grocery_pos</td>\n",
              "      <td>Horticultural consultant</td>\n",
              "    </tr>\n",
              "    <tr>\n",
              "      <th>2546</th>\n",
              "      <td>4613314721966</td>\n",
              "      <td>fraud_Erdman-Kertzmann</td>\n",
              "      <td>gas_transport</td>\n",
              "      <td>Soil scientist</td>\n",
              "    </tr>\n",
              "    <tr>\n",
              "      <th>2553</th>\n",
              "      <td>340187018810220</td>\n",
              "      <td>fraud_Koepp-Parker</td>\n",
              "      <td>grocery_pos</td>\n",
              "      <td>Horticultural consultant</td>\n",
              "    </tr>\n",
              "    <tr>\n",
              "      <th>...</th>\n",
              "      <td>...</td>\n",
              "      <td>...</td>\n",
              "      <td>...</td>\n",
              "      <td>...</td>\n",
              "    </tr>\n",
              "    <tr>\n",
              "      <th>1295399</th>\n",
              "      <td>3524574586339330</td>\n",
              "      <td>fraud_Kassulke PLC</td>\n",
              "      <td>shopping_net</td>\n",
              "      <td>Librarian, public</td>\n",
              "    </tr>\n",
              "    <tr>\n",
              "      <th>1295491</th>\n",
              "      <td>3524574586339330</td>\n",
              "      <td>fraud_Schumm PLC</td>\n",
              "      <td>shopping_net</td>\n",
              "      <td>Librarian, public</td>\n",
              "    </tr>\n",
              "    <tr>\n",
              "      <th>1295532</th>\n",
              "      <td>4005676619255478</td>\n",
              "      <td>fraud_Tillman, Dickinson and Labadie</td>\n",
              "      <td>gas_transport</td>\n",
              "      <td>Herbalist</td>\n",
              "    </tr>\n",
              "    <tr>\n",
              "      <th>1295666</th>\n",
              "      <td>3560725013359375</td>\n",
              "      <td>fraud_Corwin-Collins</td>\n",
              "      <td>gas_transport</td>\n",
              "      <td>Cytogeneticist</td>\n",
              "    </tr>\n",
              "    <tr>\n",
              "      <th>1295733</th>\n",
              "      <td>4005676619255478</td>\n",
              "      <td>fraud_Koss and Sons</td>\n",
              "      <td>gas_transport</td>\n",
              "      <td>Herbalist</td>\n",
              "    </tr>\n",
              "  </tbody>\n",
              "</table>\n",
              "<p>7506 rows × 4 columns</p>\n",
              "</div>"
            ],
            "text/plain": [
              "                   cc_num  ...                       job\n",
              "2449        4613314721966  ...            Soil scientist\n",
              "2472      340187018810220  ...  Horticultural consultant\n",
              "2523      340187018810220  ...  Horticultural consultant\n",
              "2546        4613314721966  ...            Soil scientist\n",
              "2553      340187018810220  ...  Horticultural consultant\n",
              "...                   ...  ...                       ...\n",
              "1295399  3524574586339330  ...         Librarian, public\n",
              "1295491  3524574586339330  ...         Librarian, public\n",
              "1295532  4005676619255478  ...                 Herbalist\n",
              "1295666  3560725013359375  ...            Cytogeneticist\n",
              "1295733  4005676619255478  ...                 Herbalist\n",
              "\n",
              "[7506 rows x 4 columns]"
            ]
          },
          "metadata": {},
          "execution_count": 5
        }
      ]
    },
    {
      "cell_type": "code",
      "metadata": {
        "id": "j7FXjYo69_EN"
      },
      "source": [
        "from itertools import combinations\n",
        "\n",
        "def apriori(dataset, minSup):\n",
        "  print(\"Minimum Support: \", minSup)\n",
        "  # first pass\n",
        "  L = first_pass(dataset)\n",
        "  # Create 1-itemset candidates\n",
        "  F = {1: L[L['count'] / len(dataset) >= minSup]}\n",
        "  F[1] = F[1].reset_index(drop=True)\n",
        "  #print(F[1])\n",
        "  print(\"1-item set: \", len(F[1]))\n",
        "  # second pass of Apriori: count only frequent pairs\n",
        "  k = 2\n",
        "  while len(F[k - 1]) != 0:\n",
        "    # create candidate itemset\n",
        "    L = apriori_gen(F, k - 1)\n",
        "    L[k]['count'] = 0\n",
        "    for i in range(len(dataset)):\n",
        "      for j in range(len(L[k])):\n",
        "        # check if the set can be found in the dataset\n",
        "        if set(L[k]['category'][j]).issubset(dataset[i]):\n",
        "          L[k].loc[j, 'count'] += 1\n",
        "    \n",
        "    # finally define them as frequent itemsets\n",
        "    F[k] = L[k][L[k]['count'] / len(dataset) >= minSup]\n",
        "    F[k] = F[k].reset_index(drop=True)\n",
        "\n",
        "    print(str(k) + \"-item set: \" + str(len(F[k])))\n",
        "    if k == 2:\n",
        "      break\n",
        "  \n",
        "  return F\n",
        "\n",
        "# first pass of Apriori: count all items\n",
        "def first_pass(dataset):\n",
        "  counts = pd.DataFrame(columns=['category', 'count'])\n",
        "\n",
        "  for i in range(len(dataset)):\n",
        "    for j in range(len(dataset[i])):\n",
        "      # if the movie id is already in counts, increment counts\n",
        "      if dataset[i][j] in counts.values:\n",
        "        ind = counts[counts['category']==dataset[i][j]].index.values\n",
        "        counts.loc[ind, 'count'] += 1\n",
        "      # if the movie id is not yet registered in counts\n",
        "      else:\n",
        "        #print(dataset[i][j])\n",
        "        counts.loc[len(counts.index)] = [dataset[i][j], 1]\n",
        "\n",
        "  counts = counts.reset_index(drop=True)\n",
        "  #print(counts.values)\n",
        "  return counts         \n",
        "\n",
        "# generate candidate frequent k-itemset\n",
        "def apriori_gen(L, k):\n",
        "  result = {k + 1: pd.DataFrame(columns=['category'])}\n",
        "  c = []\n",
        "  # create combinations of k items \n",
        "  c = list(combinations(L[1]['category'], k + 1))\n",
        "  # add this combinations to the candidate set\n",
        "  for i in range(len(c)):\n",
        "    result[k + 1].loc[i] = [c[i]]\n",
        "\n",
        "  #print(result)\n",
        "  return result        "
      ],
      "execution_count": 6,
      "outputs": []
    },
    {
      "cell_type": "code",
      "metadata": {
        "id": "5Eah5TtoB5dJ"
      },
      "source": [
        "fraud_data_mct = fraud_data.sort_values('merchant')\n",
        "tm = fraud_data_mct.groupby(['merchant'])['category'].apply(list).values.tolist()"
      ],
      "execution_count": 7,
      "outputs": []
    },
    {
      "cell_type": "code",
      "metadata": {
        "id": "vJqUcXe_-TBd"
      },
      "source": [
        "fraud_data_ccn = fraud_data.sort_values('cc_num')\n",
        "tc = fraud_data_ccn.groupby(['cc_num'])['merchant'].apply(list).values.tolist()"
      ],
      "execution_count": 8,
      "outputs": []
    },
    {
      "cell_type": "code",
      "metadata": {
        "colab": {
          "base_uri": "https://localhost:8080/",
          "height": 488
        },
        "id": "TWTmtQ11s8dV",
        "outputId": "878c3f9c-5978-4e4a-adc9-30f29a5acfae"
      },
      "source": [
        "fraud_data.drop_duplicates(subset=['category'])"
      ],
      "execution_count": 9,
      "outputs": [
        {
          "output_type": "execute_result",
          "data": {
            "text/html": [
              "<div>\n",
              "<style scoped>\n",
              "    .dataframe tbody tr th:only-of-type {\n",
              "        vertical-align: middle;\n",
              "    }\n",
              "\n",
              "    .dataframe tbody tr th {\n",
              "        vertical-align: top;\n",
              "    }\n",
              "\n",
              "    .dataframe thead th {\n",
              "        text-align: right;\n",
              "    }\n",
              "</style>\n",
              "<table border=\"1\" class=\"dataframe\">\n",
              "  <thead>\n",
              "    <tr style=\"text-align: right;\">\n",
              "      <th></th>\n",
              "      <th>cc_num</th>\n",
              "      <th>merchant</th>\n",
              "      <th>category</th>\n",
              "      <th>job</th>\n",
              "    </tr>\n",
              "  </thead>\n",
              "  <tbody>\n",
              "    <tr>\n",
              "      <th>2449</th>\n",
              "      <td>4613314721966</td>\n",
              "      <td>fraud_Rutherford-Mertz</td>\n",
              "      <td>grocery_pos</td>\n",
              "      <td>Soil scientist</td>\n",
              "    </tr>\n",
              "    <tr>\n",
              "      <th>2472</th>\n",
              "      <td>340187018810220</td>\n",
              "      <td>fraud_Jenkins, Hauck and Friesen</td>\n",
              "      <td>gas_transport</td>\n",
              "      <td>Horticultural consultant</td>\n",
              "    </tr>\n",
              "    <tr>\n",
              "      <th>2937</th>\n",
              "      <td>4613314721966</td>\n",
              "      <td>fraud_Medhurst PLC</td>\n",
              "      <td>shopping_net</td>\n",
              "      <td>Soil scientist</td>\n",
              "    </tr>\n",
              "    <tr>\n",
              "      <th>3527</th>\n",
              "      <td>4613314721966</td>\n",
              "      <td>fraud_Ruecker Group</td>\n",
              "      <td>misc_net</td>\n",
              "      <td>Soil scientist</td>\n",
              "    </tr>\n",
              "    <tr>\n",
              "      <th>4383</th>\n",
              "      <td>4922710831011201</td>\n",
              "      <td>fraud_Pouros-Conroy</td>\n",
              "      <td>shopping_pos</td>\n",
              "      <td>Public affairs consultant</td>\n",
              "    </tr>\n",
              "    <tr>\n",
              "      <th>4693</th>\n",
              "      <td>4922710831011201</td>\n",
              "      <td>fraud_Mosciski Group</td>\n",
              "      <td>travel</td>\n",
              "      <td>Public affairs consultant</td>\n",
              "    </tr>\n",
              "    <tr>\n",
              "      <th>4808</th>\n",
              "      <td>341546199006537</td>\n",
              "      <td>fraud_Stokes, Christiansen and Sipes</td>\n",
              "      <td>grocery_net</td>\n",
              "      <td>Administrator, education</td>\n",
              "    </tr>\n",
              "    <tr>\n",
              "      <th>6141</th>\n",
              "      <td>341546199006537</td>\n",
              "      <td>fraud_Wisozk and Sons</td>\n",
              "      <td>misc_pos</td>\n",
              "      <td>Administrator, education</td>\n",
              "    </tr>\n",
              "    <tr>\n",
              "      <th>6240</th>\n",
              "      <td>341546199006537</td>\n",
              "      <td>fraud_Friesen Ltd</td>\n",
              "      <td>health_fitness</td>\n",
              "      <td>Administrator, education</td>\n",
              "    </tr>\n",
              "    <tr>\n",
              "      <th>7529</th>\n",
              "      <td>341546199006537</td>\n",
              "      <td>fraud_Hauck, Dietrich and Funk</td>\n",
              "      <td>kids_pets</td>\n",
              "      <td>Administrator, education</td>\n",
              "    </tr>\n",
              "    <tr>\n",
              "      <th>13481</th>\n",
              "      <td>4859525594182537</td>\n",
              "      <td>fraud_Douglas-White</td>\n",
              "      <td>entertainment</td>\n",
              "      <td>Psychotherapist, child</td>\n",
              "    </tr>\n",
              "    <tr>\n",
              "      <th>15482</th>\n",
              "      <td>4859525594182537</td>\n",
              "      <td>fraud_Powlowski-Weimann</td>\n",
              "      <td>food_dining</td>\n",
              "      <td>Psychotherapist, child</td>\n",
              "    </tr>\n",
              "    <tr>\n",
              "      <th>19662</th>\n",
              "      <td>4587577161160601</td>\n",
              "      <td>fraud_Cole, Hills and Jewess</td>\n",
              "      <td>home</td>\n",
              "      <td>Financial trader</td>\n",
              "    </tr>\n",
              "    <tr>\n",
              "      <th>23672</th>\n",
              "      <td>4789911625179723</td>\n",
              "      <td>fraud_Kozey-Kuhlman</td>\n",
              "      <td>personal_care</td>\n",
              "      <td>Research officer, trade union</td>\n",
              "    </tr>\n",
              "  </tbody>\n",
              "</table>\n",
              "</div>"
            ],
            "text/plain": [
              "                 cc_num  ...                            job\n",
              "2449      4613314721966  ...                 Soil scientist\n",
              "2472    340187018810220  ...       Horticultural consultant\n",
              "2937      4613314721966  ...                 Soil scientist\n",
              "3527      4613314721966  ...                 Soil scientist\n",
              "4383   4922710831011201  ...      Public affairs consultant\n",
              "4693   4922710831011201  ...      Public affairs consultant\n",
              "4808    341546199006537  ...       Administrator, education\n",
              "6141    341546199006537  ...       Administrator, education\n",
              "6240    341546199006537  ...       Administrator, education\n",
              "7529    341546199006537  ...       Administrator, education\n",
              "13481  4859525594182537  ...         Psychotherapist, child\n",
              "15482  4859525594182537  ...         Psychotherapist, child\n",
              "19662  4587577161160601  ...               Financial trader\n",
              "23672  4789911625179723  ...  Research officer, trade union\n",
              "\n",
              "[14 rows x 4 columns]"
            ]
          },
          "metadata": {},
          "execution_count": 9
        }
      ]
    },
    {
      "cell_type": "code",
      "metadata": {
        "id": "kMhmNlTjP2ge"
      },
      "source": [
        "def associate_rules(T, F, minConf):\n",
        "  k = 2\n",
        "  consq = []\n",
        "  rules = pd.DataFrame(columns=['X_Job', 'Y_Job', 'Sup', 'Conf'])\n",
        "  #print(F[k])\n",
        "  while len(F[k]) != 0:\n",
        "    #print(\"leggo\")\n",
        "    for i in range(len(F[k])):\n",
        "      # create candidate rules\n",
        "      consq = list(combinations(F[k]['category'][i], 1))\n",
        "      #print(\"F[k]['count'][i]\", F[k]['count'][i])\n",
        "      #print(len(consq))\n",
        "      #print(consq)\n",
        "      # filter cnadidate rules with minimum confidence\n",
        "      for c in consq:\n",
        "        x = list(set(F[k]['category'][i])-set(c))\n",
        "        x_size = len(x)\n",
        "        x_count = 0\n",
        "        for j in range(len(F[x_size])):\n",
        "          #print(type(F[x_size]['movieId'][j]))\n",
        "          if x_size == 1 and F[len(x)]['category'][j] == x[0]:\n",
        "            x_count = F[x_size]['count'][j]\n",
        "            continue\n",
        "          if x_size > 1:\n",
        "            if len(list(set(F[x_size]['category'][j]) - set(x))) == 0:\n",
        "              x_count = F[x_size]['count'][j]\n",
        "        #print(c)\n",
        "        # print(\"x: \", x)\n",
        "        # print(\"x_count: \", x_count)\n",
        "\n",
        "        # add rules that has confidence greater than or equal to the minimum confidence\n",
        "        if (F[k]['count'][i] / x_count) >= minConf:\n",
        "          rules.loc[len(rules.index)] = [list(x), list(set(F[k]['category'][i]) - set(x)), F[k]['count'][i] / len(T), F[k]['count'][i] / x_count]\n",
        "\n",
        "    if k == 2:\n",
        "      break\n",
        "\n",
        "  return rules\n"
      ],
      "execution_count": 47,
      "outputs": []
    },
    {
      "cell_type": "code",
      "metadata": {
        "colab": {
          "base_uri": "https://localhost:8080/"
        },
        "id": "U26Ku3PjQDpD",
        "outputId": "37b3dda3-d635-4c38-fc25-524d468a83f8"
      },
      "source": [
        "fraud_data.category.unique()\n",
        "#print(rules)\n",
        "\n",
        "#print(combinations(frequent[1]['nameDest'][1], 1))\n",
        "# rules = associate_rules(tm, frequent, 0)"
      ],
      "execution_count": 48,
      "outputs": [
        {
          "output_type": "execute_result",
          "data": {
            "text/plain": [
              "array(['grocery_pos', 'gas_transport', 'shopping_net', 'misc_net',\n",
              "       'shopping_pos', 'travel', 'grocery_net', 'misc_pos',\n",
              "       'health_fitness', 'kids_pets', 'entertainment', 'food_dining',\n",
              "       'home', 'personal_care'], dtype=object)"
            ]
          },
          "metadata": {},
          "execution_count": 48
        }
      ]
    },
    {
      "cell_type": "code",
      "metadata": {
        "id": "q0xGVqWjR4c6"
      },
      "source": [
        "fraud_data_ctg = fraud_data.sort_values('merchant')\n",
        "tcg = fraud_data_ctg.groupby(['merchant'])['job'].apply(list).values.tolist()"
      ],
      "execution_count": 12,
      "outputs": []
    },
    {
      "cell_type": "code",
      "metadata": {
        "id": "TKYOC04Li0cs"
      },
      "source": [
        ""
      ],
      "execution_count": null,
      "outputs": []
    },
    {
      "cell_type": "code",
      "metadata": {
        "id": "K9v2GKe_ViBT"
      },
      "source": [
        "# for category in tcg:\n",
        "#   #print(category)\n",
        "#   category = list(set(category))\n",
        "#   #print(\"new\", category)"
      ],
      "execution_count": 13,
      "outputs": []
    },
    {
      "cell_type": "code",
      "metadata": {
        "colab": {
          "base_uri": "https://localhost:8080/"
        },
        "id": "cX4M6l_TZUbz",
        "outputId": "1d871aee-4f7a-4f93-e68c-7d208a6b8af2"
      },
      "source": [
        "frequent = apriori(tcg, 0.015)"
      ],
      "execution_count": 15,
      "outputs": [
        {
          "output_type": "stream",
          "name": "stdout",
          "text": [
            "Minimum Support:  0.015\n",
            "1-item set:  298\n",
            "2-item set: 5\n"
          ]
        }
      ]
    },
    {
      "cell_type": "code",
      "metadata": {
        "id": "R3XP3K1lZUZf"
      },
      "source": [
        "rules = associate_rules(tcg, frequent, 0.25)"
      ],
      "execution_count": 49,
      "outputs": []
    },
    {
      "cell_type": "code",
      "metadata": {
        "id": "5QrMtCe-PO7x",
        "colab": {
          "base_uri": "https://localhost:8080/",
          "height": 206
        },
        "outputId": "27225bbd-21d0-4362-e66b-66df039c1272"
      },
      "source": [
        "rules"
      ],
      "execution_count": 50,
      "outputs": [
        {
          "output_type": "execute_result",
          "data": {
            "text/html": [
              "<div>\n",
              "<style scoped>\n",
              "    .dataframe tbody tr th:only-of-type {\n",
              "        vertical-align: middle;\n",
              "    }\n",
              "\n",
              "    .dataframe tbody tr th {\n",
              "        vertical-align: top;\n",
              "    }\n",
              "\n",
              "    .dataframe thead th {\n",
              "        text-align: right;\n",
              "    }\n",
              "</style>\n",
              "<table border=\"1\" class=\"dataframe\">\n",
              "  <thead>\n",
              "    <tr style=\"text-align: right;\">\n",
              "      <th></th>\n",
              "      <th>X_Job</th>\n",
              "      <th>Y_Job</th>\n",
              "      <th>Sup</th>\n",
              "      <th>Conf</th>\n",
              "    </tr>\n",
              "  </thead>\n",
              "  <tbody>\n",
              "    <tr>\n",
              "      <th>0</th>\n",
              "      <td>[Systems analyst]</td>\n",
              "      <td>[Surveyor, land/geomatics]</td>\n",
              "      <td>0.016200</td>\n",
              "      <td>0.323529</td>\n",
              "    </tr>\n",
              "    <tr>\n",
              "      <th>1</th>\n",
              "      <td>[Audiological scientist]</td>\n",
              "      <td>[Naval architect]</td>\n",
              "      <td>0.017673</td>\n",
              "      <td>0.260870</td>\n",
              "    </tr>\n",
              "    <tr>\n",
              "      <th>2</th>\n",
              "      <td>[Film/video editor]</td>\n",
              "      <td>[Audiological scientist]</td>\n",
              "      <td>0.019146</td>\n",
              "      <td>0.295455</td>\n",
              "    </tr>\n",
              "    <tr>\n",
              "      <th>3</th>\n",
              "      <td>[Audiological scientist]</td>\n",
              "      <td>[Film/video editor]</td>\n",
              "      <td>0.019146</td>\n",
              "      <td>0.282609</td>\n",
              "    </tr>\n",
              "    <tr>\n",
              "      <th>4</th>\n",
              "      <td>[Film/video editor]</td>\n",
              "      <td>[Trading standards officer]</td>\n",
              "      <td>0.017673</td>\n",
              "      <td>0.272727</td>\n",
              "    </tr>\n",
              "  </tbody>\n",
              "</table>\n",
              "</div>"
            ],
            "text/plain": [
              "                      X_Job                        Y_Job       Sup      Conf\n",
              "0         [Systems analyst]   [Surveyor, land/geomatics]  0.016200  0.323529\n",
              "1  [Audiological scientist]            [Naval architect]  0.017673  0.260870\n",
              "2       [Film/video editor]     [Audiological scientist]  0.019146  0.295455\n",
              "3  [Audiological scientist]          [Film/video editor]  0.019146  0.282609\n",
              "4       [Film/video editor]  [Trading standards officer]  0.017673  0.272727"
            ]
          },
          "metadata": {},
          "execution_count": 50
        }
      ]
    },
    {
      "cell_type": "code",
      "metadata": {
        "id": "-PV-cmkHemgy"
      },
      "source": [
        "#frequent"
      ],
      "execution_count": 82,
      "outputs": []
    },
    {
      "cell_type": "code",
      "metadata": {
        "id": "z69Qc6gsrbwd"
      },
      "source": [
        "import networkx as nx\n",
        "import matplotlib.pyplot as plt\n",
        "from networkx.algorithms import bipartite\n",
        "\n",
        "B = nx.Graph()\n",
        "B.add_nodes_from(['Systems analyst', 'Audiological scientist', 'Film/video editor'], bipartite=1)\n",
        "B.add_nodes_from(['Surveyor, land/geomatics', 'Naval architect',  'Audiological scientist', 'Trading standards officer', 'Film/video editor'], bipartite=1)\n",
        "B.add_edges_from([('Systems analyst', 'Surveyor, land/geomatics'), ('Audiological scientist', 'Naval architect'), ('Audiological scientist', 'Film/video editor'), ('Film/video editor', 'Audiological scientist'), ('Film/video editor', 'Trading standards officer')])"
      ],
      "execution_count": 124,
      "outputs": []
    },
    {
      "cell_type": "code",
      "metadata": {
        "colab": {
          "base_uri": "https://localhost:8080/",
          "height": 248
        },
        "id": "zQPUNqmx3J_l",
        "outputId": "28f1a5f9-7120-4390-97b7-5247c4faa55a"
      },
      "source": [
        "nx.draw_networkx(B, with_labels=True)"
      ],
      "execution_count": 128,
      "outputs": [
        {
          "output_type": "display_data",
          "data": {
            "image/png": "[encoded data removed]",
            "text/plain": [
              "<Figure size 432x288 with 1 Axes>"
            ]
          },
          "metadata": {}
        }
      ]
    }
  ]
}