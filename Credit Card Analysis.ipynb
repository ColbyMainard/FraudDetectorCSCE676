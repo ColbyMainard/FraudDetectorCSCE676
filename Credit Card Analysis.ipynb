{
 "cells": [
  {
   "cell_type": "markdown",
   "metadata": {},
   "source": [
    "#credit card transaction fraud"
   ]
  },
  {
   "cell_type": "markdown",
   "metadata": {},
   "source": [
    "#loading data"
   ]
  },
  {
   "cell_type": "code",
   "execution_count": 1,
   "metadata": {},
   "outputs": [],
   "source": [
    "import pandas as pd\n",
    "import os\n",
    "\n",
    "training_data_path = \"fraudTrain.csv\"\n",
    "test_data_path = \"fraudTest.csv\"\n",
    "\n",
    "training_data_raw = pd.read_csv(training_data_path)\n",
    "test_data_raw = pd.read_csv(test_data_path)"
   ]
  },
  {
   "cell_type": "markdown",
   "metadata": {},
   "source": [
    "#cleaning data"
   ]
  },
  {
   "cell_type": "code",
   "execution_count": 2,
   "metadata": {},
   "outputs": [],
   "source": [
    "#data cleaning here\n",
    "training_data_clean = {\"cc_num\": [], \"merchant\": [], \"category\": [], \"amt\": [], \"first\": [], \"last\": [], \"gender\": [], \"lat\": [], \"long\": [], \"city_pop\": [], \"job\": [], \"unix_time\": [], \"merch_lat\": [], \"merch_long\": [], \"is_fraud\": []}\n",
    "for idx in range(len(training_data_raw[\"cc_num\"])):\n",
    "    for key in training_data_clean.keys():\n",
    "        training_data_clean[key].append(training_data_raw[key][idx])\n",
    "training_data_clean = pd.DataFrame.from_dict(training_data_clean)\n",
    "training_data_clean.to_csv(\"credit_card_fraud_clean_train.csv\", index=False)\n",
    "\n",
    "test_data_clean = {\"cc_num\": [], \"merchant\": [], \"category\": [], \"amt\": [], \"first\": [], \"last\": [], \"gender\": [], \"lat\": [], \"long\": [], \"city_pop\": [], \"job\": [], \"unix_time\": [], \"merch_lat\": [], \"merch_long\": [], \"is_fraud\": []}\n",
    "for idx in range(len(test_data_raw[\"cc_num\"])):\n",
    "    for key in test_data_clean.keys():\n",
    "        test_data_clean[key].append(test_data_raw[key][idx])\n",
    "test_data_clean = pd.DataFrame.from_dict(test_data_clean)\n",
    "test_data_clean.to_csv(\"credit_card_fraud_clean_test.csv\", index=False)"
   ]
  },
  {
   "cell_type": "markdown",
   "metadata": {},
   "source": [
    "#Preprocess data"
   ]
  },
  {
   "cell_type": "code",
   "execution_count": null,
   "metadata": {},
   "outputs": [],
   "source": [
    "#Handle categorical data"
   ]
  },
  {
   "cell_type": "markdown",
   "metadata": {},
   "source": [
    "#subsample data"
   ]
  },
  {
   "cell_type": "code",
   "execution_count": 3,
   "metadata": {},
   "outputs": [],
   "source": [
    "#sample data here"
   ]
  },
  {
   "cell_type": "markdown",
   "metadata": {},
   "source": [
    "#Keras environment setup"
   ]
  },
  {
   "cell_type": "code",
   "execution_count": null,
   "metadata": {},
   "outputs": [],
   "source": [
    "#load keras functions"
   ]
  },
  {
   "cell_type": "markdown",
   "metadata": {},
   "source": [
    "#Hyperparameter tuning"
   ]
  },
  {
   "cell_type": "code",
   "execution_count": null,
   "metadata": {},
   "outputs": [],
   "source": [
    "#perform hyperparameter tuning here"
   ]
  },
  {
   "cell_type": "markdown",
   "metadata": {},
   "source": [
    "#Train Neural Network"
   ]
  },
  {
   "cell_type": "code",
   "execution_count": null,
   "metadata": {},
   "outputs": [],
   "source": [
    "#Train neural network here"
   ]
  },
  {
   "cell_type": "markdown",
   "metadata": {},
   "source": [
    "#False positive and negative rates"
   ]
  },
  {
   "cell_type": "code",
   "execution_count": null,
   "metadata": {},
   "outputs": [],
   "source": [
    "#create false positive and negative rates"
   ]
  },
  {
   "cell_type": "markdown",
   "metadata": {},
   "source": [
    "#Evaluate on test set"
   ]
  },
  {
   "cell_type": "code",
   "execution_count": null,
   "metadata": {},
   "outputs": [],
   "source": [
    "#evaluate"
   ]
  }
 ],
 "metadata": {
  "interpreter": {
   "hash": "b4a56ac7d8a0ccd50127e345ccc30f7d61dbad599a11a46d4752f0ccdb34e3a5"
  },
  "kernelspec": {
   "display_name": "Python 3.8.6 64-bit",
   "name": "python3"
  },
  "language_info": {
   "codemirror_mode": {
    "name": "ipython",
    "version": 3
   },
   "file_extension": ".py",
   "mimetype": "text/x-python",
   "name": "python",
   "nbconvert_exporter": "python",
   "pygments_lexer": "ipython3",
   "version": "3.8.6"
  },
  "orig_nbformat": 4
 },
 "nbformat": 4,
 "nbformat_minor": 2
}
