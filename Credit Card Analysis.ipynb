{
 "cells": [
  {
   "cell_type": "markdown",
   "metadata": {},
   "source": [
    "# credit card transaction fraud"
   ]
  },
  {
   "cell_type": "markdown",
   "metadata": {},
   "source": [
    "# loading data"
   ]
  },
  {
   "cell_type": "code",
   "execution_count": 22,
   "metadata": {},
   "outputs": [],
   "source": [
    "import pandas as pd\n",
    "import os\n",
    "\n",
    "training_data_path = \"fraudTrain.csv\"\n",
    "test_data_path = \"fraudTest.csv\"\n",
    "\n",
    "training_data_raw = pd.read_csv(training_data_path)\n",
    "test_data_raw = pd.read_csv(test_data_path)"
   ]
  },
  {
   "cell_type": "code",
   "execution_count": 23,
   "metadata": {},
   "outputs": [
    {
     "data": {
      "text/html": [
       "<div>\n",
       "<style scoped>\n",
       "    .dataframe tbody tr th:only-of-type {\n",
       "        vertical-align: middle;\n",
       "    }\n",
       "\n",
       "    .dataframe tbody tr th {\n",
       "        vertical-align: top;\n",
       "    }\n",
       "\n",
       "    .dataframe thead th {\n",
       "        text-align: right;\n",
       "    }\n",
       "</style>\n",
       "<table border=\"1\" class=\"dataframe\">\n",
       "  <thead>\n",
       "    <tr style=\"text-align: right;\">\n",
       "      <th></th>\n",
       "      <th>Unnamed: 0</th>\n",
       "      <th>trans_date_trans_time</th>\n",
       "      <th>cc_num</th>\n",
       "      <th>merchant</th>\n",
       "      <th>category</th>\n",
       "      <th>amt</th>\n",
       "      <th>first</th>\n",
       "      <th>last</th>\n",
       "      <th>gender</th>\n",
       "      <th>street</th>\n",
       "      <th>...</th>\n",
       "      <th>lat</th>\n",
       "      <th>long</th>\n",
       "      <th>city_pop</th>\n",
       "      <th>job</th>\n",
       "      <th>dob</th>\n",
       "      <th>trans_num</th>\n",
       "      <th>unix_time</th>\n",
       "      <th>merch_lat</th>\n",
       "      <th>merch_long</th>\n",
       "      <th>is_fraud</th>\n",
       "    </tr>\n",
       "  </thead>\n",
       "  <tbody>\n",
       "    <tr>\n",
       "      <th>0</th>\n",
       "      <td>0</td>\n",
       "      <td>2019-01-01 00:00:18</td>\n",
       "      <td>2703186189652095</td>\n",
       "      <td>fraud_Rippin, Kub and Mann</td>\n",
       "      <td>misc_net</td>\n",
       "      <td>4.97</td>\n",
       "      <td>Jennifer</td>\n",
       "      <td>Banks</td>\n",
       "      <td>F</td>\n",
       "      <td>561 Perry Cove</td>\n",
       "      <td>...</td>\n",
       "      <td>36.0788</td>\n",
       "      <td>-81.1781</td>\n",
       "      <td>3495</td>\n",
       "      <td>Psychologist, counselling</td>\n",
       "      <td>1988-03-09</td>\n",
       "      <td>0b242abb623afc578575680df30655b9</td>\n",
       "      <td>1325376018</td>\n",
       "      <td>36.011293</td>\n",
       "      <td>-82.048315</td>\n",
       "      <td>0</td>\n",
       "    </tr>\n",
       "    <tr>\n",
       "      <th>1</th>\n",
       "      <td>1</td>\n",
       "      <td>2019-01-01 00:00:44</td>\n",
       "      <td>630423337322</td>\n",
       "      <td>fraud_Heller, Gutmann and Zieme</td>\n",
       "      <td>grocery_pos</td>\n",
       "      <td>107.23</td>\n",
       "      <td>Stephanie</td>\n",
       "      <td>Gill</td>\n",
       "      <td>F</td>\n",
       "      <td>43039 Riley Greens Suite 393</td>\n",
       "      <td>...</td>\n",
       "      <td>48.8878</td>\n",
       "      <td>-118.2105</td>\n",
       "      <td>149</td>\n",
       "      <td>Special educational needs teacher</td>\n",
       "      <td>1978-06-21</td>\n",
       "      <td>1f76529f8574734946361c461b024d99</td>\n",
       "      <td>1325376044</td>\n",
       "      <td>49.159047</td>\n",
       "      <td>-118.186462</td>\n",
       "      <td>0</td>\n",
       "    </tr>\n",
       "    <tr>\n",
       "      <th>2</th>\n",
       "      <td>2</td>\n",
       "      <td>2019-01-01 00:00:51</td>\n",
       "      <td>38859492057661</td>\n",
       "      <td>fraud_Lind-Buckridge</td>\n",
       "      <td>entertainment</td>\n",
       "      <td>220.11</td>\n",
       "      <td>Edward</td>\n",
       "      <td>Sanchez</td>\n",
       "      <td>M</td>\n",
       "      <td>594 White Dale Suite 530</td>\n",
       "      <td>...</td>\n",
       "      <td>42.1808</td>\n",
       "      <td>-112.2620</td>\n",
       "      <td>4154</td>\n",
       "      <td>Nature conservation officer</td>\n",
       "      <td>1962-01-19</td>\n",
       "      <td>a1a22d70485983eac12b5b88dad1cf95</td>\n",
       "      <td>1325376051</td>\n",
       "      <td>43.150704</td>\n",
       "      <td>-112.154481</td>\n",
       "      <td>0</td>\n",
       "    </tr>\n",
       "    <tr>\n",
       "      <th>3</th>\n",
       "      <td>3</td>\n",
       "      <td>2019-01-01 00:01:16</td>\n",
       "      <td>3534093764340240</td>\n",
       "      <td>fraud_Kutch, Hermiston and Farrell</td>\n",
       "      <td>gas_transport</td>\n",
       "      <td>45.00</td>\n",
       "      <td>Jeremy</td>\n",
       "      <td>White</td>\n",
       "      <td>M</td>\n",
       "      <td>9443 Cynthia Court Apt. 038</td>\n",
       "      <td>...</td>\n",
       "      <td>46.2306</td>\n",
       "      <td>-112.1138</td>\n",
       "      <td>1939</td>\n",
       "      <td>Patent attorney</td>\n",
       "      <td>1967-01-12</td>\n",
       "      <td>6b849c168bdad6f867558c3793159a81</td>\n",
       "      <td>1325376076</td>\n",
       "      <td>47.034331</td>\n",
       "      <td>-112.561071</td>\n",
       "      <td>0</td>\n",
       "    </tr>\n",
       "    <tr>\n",
       "      <th>4</th>\n",
       "      <td>4</td>\n",
       "      <td>2019-01-01 00:03:06</td>\n",
       "      <td>375534208663984</td>\n",
       "      <td>fraud_Keeling-Crist</td>\n",
       "      <td>misc_pos</td>\n",
       "      <td>41.96</td>\n",
       "      <td>Tyler</td>\n",
       "      <td>Garcia</td>\n",
       "      <td>M</td>\n",
       "      <td>408 Bradley Rest</td>\n",
       "      <td>...</td>\n",
       "      <td>38.4207</td>\n",
       "      <td>-79.4629</td>\n",
       "      <td>99</td>\n",
       "      <td>Dance movement psychotherapist</td>\n",
       "      <td>1986-03-28</td>\n",
       "      <td>a41d7549acf90789359a9aa5346dcb46</td>\n",
       "      <td>1325376186</td>\n",
       "      <td>38.674999</td>\n",
       "      <td>-78.632459</td>\n",
       "      <td>0</td>\n",
       "    </tr>\n",
       "    <tr>\n",
       "      <th>...</th>\n",
       "      <td>...</td>\n",
       "      <td>...</td>\n",
       "      <td>...</td>\n",
       "      <td>...</td>\n",
       "      <td>...</td>\n",
       "      <td>...</td>\n",
       "      <td>...</td>\n",
       "      <td>...</td>\n",
       "      <td>...</td>\n",
       "      <td>...</td>\n",
       "      <td>...</td>\n",
       "      <td>...</td>\n",
       "      <td>...</td>\n",
       "      <td>...</td>\n",
       "      <td>...</td>\n",
       "      <td>...</td>\n",
       "      <td>...</td>\n",
       "      <td>...</td>\n",
       "      <td>...</td>\n",
       "      <td>...</td>\n",
       "      <td>...</td>\n",
       "    </tr>\n",
       "    <tr>\n",
       "      <th>1296670</th>\n",
       "      <td>1296670</td>\n",
       "      <td>2020-06-21 12:12:08</td>\n",
       "      <td>30263540414123</td>\n",
       "      <td>fraud_Reichel Inc</td>\n",
       "      <td>entertainment</td>\n",
       "      <td>15.56</td>\n",
       "      <td>Erik</td>\n",
       "      <td>Patterson</td>\n",
       "      <td>M</td>\n",
       "      <td>162 Jessica Row Apt. 072</td>\n",
       "      <td>...</td>\n",
       "      <td>37.7175</td>\n",
       "      <td>-112.4777</td>\n",
       "      <td>258</td>\n",
       "      <td>Geoscientist</td>\n",
       "      <td>1961-11-24</td>\n",
       "      <td>440b587732da4dc1a6395aba5fb41669</td>\n",
       "      <td>1371816728</td>\n",
       "      <td>36.841266</td>\n",
       "      <td>-111.690765</td>\n",
       "      <td>0</td>\n",
       "    </tr>\n",
       "    <tr>\n",
       "      <th>1296671</th>\n",
       "      <td>1296671</td>\n",
       "      <td>2020-06-21 12:12:19</td>\n",
       "      <td>6011149206456997</td>\n",
       "      <td>fraud_Abernathy and Sons</td>\n",
       "      <td>food_dining</td>\n",
       "      <td>51.70</td>\n",
       "      <td>Jeffrey</td>\n",
       "      <td>White</td>\n",
       "      <td>M</td>\n",
       "      <td>8617 Holmes Terrace Suite 651</td>\n",
       "      <td>...</td>\n",
       "      <td>39.2667</td>\n",
       "      <td>-77.5101</td>\n",
       "      <td>100</td>\n",
       "      <td>Production assistant, television</td>\n",
       "      <td>1979-12-11</td>\n",
       "      <td>278000d2e0d2277d1de2f890067dcc0a</td>\n",
       "      <td>1371816739</td>\n",
       "      <td>38.906881</td>\n",
       "      <td>-78.246528</td>\n",
       "      <td>0</td>\n",
       "    </tr>\n",
       "    <tr>\n",
       "      <th>1296672</th>\n",
       "      <td>1296672</td>\n",
       "      <td>2020-06-21 12:12:32</td>\n",
       "      <td>3514865930894695</td>\n",
       "      <td>fraud_Stiedemann Ltd</td>\n",
       "      <td>food_dining</td>\n",
       "      <td>105.93</td>\n",
       "      <td>Christopher</td>\n",
       "      <td>Castaneda</td>\n",
       "      <td>M</td>\n",
       "      <td>1632 Cohen Drive Suite 639</td>\n",
       "      <td>...</td>\n",
       "      <td>32.9396</td>\n",
       "      <td>-105.8189</td>\n",
       "      <td>899</td>\n",
       "      <td>Naval architect</td>\n",
       "      <td>1967-08-30</td>\n",
       "      <td>483f52fe67fabef353d552c1e662974c</td>\n",
       "      <td>1371816752</td>\n",
       "      <td>33.619513</td>\n",
       "      <td>-105.130529</td>\n",
       "      <td>0</td>\n",
       "    </tr>\n",
       "    <tr>\n",
       "      <th>1296673</th>\n",
       "      <td>1296673</td>\n",
       "      <td>2020-06-21 12:13:36</td>\n",
       "      <td>2720012583106919</td>\n",
       "      <td>fraud_Reinger, Weissnat and Strosin</td>\n",
       "      <td>food_dining</td>\n",
       "      <td>74.90</td>\n",
       "      <td>Joseph</td>\n",
       "      <td>Murray</td>\n",
       "      <td>M</td>\n",
       "      <td>42933 Ryan Underpass</td>\n",
       "      <td>...</td>\n",
       "      <td>43.3526</td>\n",
       "      <td>-102.5411</td>\n",
       "      <td>1126</td>\n",
       "      <td>Volunteer coordinator</td>\n",
       "      <td>1980-08-18</td>\n",
       "      <td>d667cdcbadaaed3da3f4020e83591c83</td>\n",
       "      <td>1371816816</td>\n",
       "      <td>42.788940</td>\n",
       "      <td>-103.241160</td>\n",
       "      <td>0</td>\n",
       "    </tr>\n",
       "    <tr>\n",
       "      <th>1296674</th>\n",
       "      <td>1296674</td>\n",
       "      <td>2020-06-21 12:13:37</td>\n",
       "      <td>4292902571056973207</td>\n",
       "      <td>fraud_Langosh, Wintheiser and Hyatt</td>\n",
       "      <td>food_dining</td>\n",
       "      <td>4.30</td>\n",
       "      <td>Jeffrey</td>\n",
       "      <td>Smith</td>\n",
       "      <td>M</td>\n",
       "      <td>135 Joseph Mountains</td>\n",
       "      <td>...</td>\n",
       "      <td>45.8433</td>\n",
       "      <td>-113.8748</td>\n",
       "      <td>218</td>\n",
       "      <td>Therapist, horticultural</td>\n",
       "      <td>1995-08-16</td>\n",
       "      <td>8f7c8e4ab7f25875d753b422917c98c9</td>\n",
       "      <td>1371816817</td>\n",
       "      <td>46.565983</td>\n",
       "      <td>-114.186110</td>\n",
       "      <td>0</td>\n",
       "    </tr>\n",
       "  </tbody>\n",
       "</table>\n",
       "<p>1296675 rows × 23 columns</p>\n",
       "</div>"
      ],
      "text/plain": [
       "         Unnamed: 0 trans_date_trans_time               cc_num  \\\n",
       "0                 0   2019-01-01 00:00:18     2703186189652095   \n",
       "1                 1   2019-01-01 00:00:44         630423337322   \n",
       "2                 2   2019-01-01 00:00:51       38859492057661   \n",
       "3                 3   2019-01-01 00:01:16     3534093764340240   \n",
       "4                 4   2019-01-01 00:03:06      375534208663984   \n",
       "...             ...                   ...                  ...   \n",
       "1296670     1296670   2020-06-21 12:12:08       30263540414123   \n",
       "1296671     1296671   2020-06-21 12:12:19     6011149206456997   \n",
       "1296672     1296672   2020-06-21 12:12:32     3514865930894695   \n",
       "1296673     1296673   2020-06-21 12:13:36     2720012583106919   \n",
       "1296674     1296674   2020-06-21 12:13:37  4292902571056973207   \n",
       "\n",
       "                                    merchant       category     amt  \\\n",
       "0                 fraud_Rippin, Kub and Mann       misc_net    4.97   \n",
       "1            fraud_Heller, Gutmann and Zieme    grocery_pos  107.23   \n",
       "2                       fraud_Lind-Buckridge  entertainment  220.11   \n",
       "3         fraud_Kutch, Hermiston and Farrell  gas_transport   45.00   \n",
       "4                        fraud_Keeling-Crist       misc_pos   41.96   \n",
       "...                                      ...            ...     ...   \n",
       "1296670                    fraud_Reichel Inc  entertainment   15.56   \n",
       "1296671             fraud_Abernathy and Sons    food_dining   51.70   \n",
       "1296672                 fraud_Stiedemann Ltd    food_dining  105.93   \n",
       "1296673  fraud_Reinger, Weissnat and Strosin    food_dining   74.90   \n",
       "1296674  fraud_Langosh, Wintheiser and Hyatt    food_dining    4.30   \n",
       "\n",
       "               first       last gender                         street  ...  \\\n",
       "0           Jennifer      Banks      F                 561 Perry Cove  ...   \n",
       "1          Stephanie       Gill      F   43039 Riley Greens Suite 393  ...   \n",
       "2             Edward    Sanchez      M       594 White Dale Suite 530  ...   \n",
       "3             Jeremy      White      M    9443 Cynthia Court Apt. 038  ...   \n",
       "4              Tyler     Garcia      M               408 Bradley Rest  ...   \n",
       "...              ...        ...    ...                            ...  ...   \n",
       "1296670         Erik  Patterson      M       162 Jessica Row Apt. 072  ...   \n",
       "1296671      Jeffrey      White      M  8617 Holmes Terrace Suite 651  ...   \n",
       "1296672  Christopher  Castaneda      M     1632 Cohen Drive Suite 639  ...   \n",
       "1296673       Joseph     Murray      M           42933 Ryan Underpass  ...   \n",
       "1296674      Jeffrey      Smith      M           135 Joseph Mountains  ...   \n",
       "\n",
       "             lat      long  city_pop                                job  \\\n",
       "0        36.0788  -81.1781      3495          Psychologist, counselling   \n",
       "1        48.8878 -118.2105       149  Special educational needs teacher   \n",
       "2        42.1808 -112.2620      4154        Nature conservation officer   \n",
       "3        46.2306 -112.1138      1939                    Patent attorney   \n",
       "4        38.4207  -79.4629        99     Dance movement psychotherapist   \n",
       "...          ...       ...       ...                                ...   \n",
       "1296670  37.7175 -112.4777       258                       Geoscientist   \n",
       "1296671  39.2667  -77.5101       100   Production assistant, television   \n",
       "1296672  32.9396 -105.8189       899                    Naval architect   \n",
       "1296673  43.3526 -102.5411      1126              Volunteer coordinator   \n",
       "1296674  45.8433 -113.8748       218           Therapist, horticultural   \n",
       "\n",
       "                dob                         trans_num   unix_time  merch_lat  \\\n",
       "0        1988-03-09  0b242abb623afc578575680df30655b9  1325376018  36.011293   \n",
       "1        1978-06-21  1f76529f8574734946361c461b024d99  1325376044  49.159047   \n",
       "2        1962-01-19  a1a22d70485983eac12b5b88dad1cf95  1325376051  43.150704   \n",
       "3        1967-01-12  6b849c168bdad6f867558c3793159a81  1325376076  47.034331   \n",
       "4        1986-03-28  a41d7549acf90789359a9aa5346dcb46  1325376186  38.674999   \n",
       "...             ...                               ...         ...        ...   \n",
       "1296670  1961-11-24  440b587732da4dc1a6395aba5fb41669  1371816728  36.841266   \n",
       "1296671  1979-12-11  278000d2e0d2277d1de2f890067dcc0a  1371816739  38.906881   \n",
       "1296672  1967-08-30  483f52fe67fabef353d552c1e662974c  1371816752  33.619513   \n",
       "1296673  1980-08-18  d667cdcbadaaed3da3f4020e83591c83  1371816816  42.788940   \n",
       "1296674  1995-08-16  8f7c8e4ab7f25875d753b422917c98c9  1371816817  46.565983   \n",
       "\n",
       "         merch_long  is_fraud  \n",
       "0        -82.048315         0  \n",
       "1       -118.186462         0  \n",
       "2       -112.154481         0  \n",
       "3       -112.561071         0  \n",
       "4        -78.632459         0  \n",
       "...             ...       ...  \n",
       "1296670 -111.690765         0  \n",
       "1296671  -78.246528         0  \n",
       "1296672 -105.130529         0  \n",
       "1296673 -103.241160         0  \n",
       "1296674 -114.186110         0  \n",
       "\n",
       "[1296675 rows x 23 columns]"
      ]
     },
     "execution_count": 23,
     "metadata": {},
     "output_type": "execute_result"
    }
   ],
   "source": [
    "training_data_raw"
   ]
  },
  {
   "cell_type": "markdown",
   "metadata": {},
   "source": [
    "# cleaning data"
   ]
  },
  {
   "cell_type": "code",
   "execution_count": 24,
   "metadata": {},
   "outputs": [],
   "source": [
    "#data cleaning here\n",
    "training_data_clean = {\"cc_num\": [], \"merchant\": [], \"category\": [], \"amt\": [], \"first\": [], \"last\": [], \"gender\": [], \"lat\": [], \"long\": [], \"city_pop\": [], \"job\": [], \"unix_time\": [], \"merch_lat\": [], \"merch_long\": [], \"is_fraud\": []}\n",
    "for idx in range(len(training_data_raw[\"cc_num\"])):\n",
    "    for key in training_data_clean.keys():\n",
    "        training_data_clean[key].append(training_data_raw[key][idx])\n",
    "training_data_clean = pd.DataFrame.from_dict(training_data_clean)\n",
    "training_data_clean.to_csv(\"credit_card_fraud_clean_train.csv\", index=False)\n",
    "\n",
    "test_data_clean = {\"cc_num\": [], \"merchant\": [], \"category\": [], \"amt\": [], \"first\": [], \"last\": [], \"gender\": [], \"lat\": [], \"long\": [], \"city_pop\": [], \"job\": [], \"unix_time\": [], \"merch_lat\": [], \"merch_long\": [], \"is_fraud\": []}\n",
    "for idx in range(len(test_data_raw[\"cc_num\"])):\n",
    "    for key in test_data_clean.keys():\n",
    "        test_data_clean[key].append(test_data_raw[key][idx])\n",
    "test_data_clean = pd.DataFrame.from_dict(test_data_clean)\n",
    "test_data_clean.to_csv(\"credit_card_fraud_clean_test.csv\", index=False)"
   ]
  },
  {
   "cell_type": "markdown",
   "metadata": {},
   "source": [
    "# Preprocess data for neural network"
   ]
  },
  {
   "cell_type": "code",
   "execution_count": 25,
   "metadata": {},
   "outputs": [
    {
     "name": "stdout",
     "output_type": "stream",
     "text": [
      "693\n",
      "14\n",
      "Non-categorical data length: 1296675\n",
      "Merchant data length: 1296675\n",
      "Category length: 1296675\n",
      "Fraud length: 1296675\n",
      "Number of fraudulent transactions: 7506\n"
     ]
    }
   ],
   "source": [
    "#Handle subselection of columns for the neural network\n",
    "#columns to keep: cc_num, merchant, category, amt, lat, long, unix_time, merch_lat, merch_long, is_fraud\n",
    "\n",
    "#find unique merchants\n",
    "unique_merchants = set(list(training_data_clean[\"merchant\"]))\n",
    "for merchant in list(test_data_clean[\"merchant\"]):\n",
    "    unique_merchants.add(merchant)\n",
    "unique_merchants = list(unique_merchants)\n",
    "print(len(unique_merchants))\n",
    "\n",
    "#create tokenization scheme for merchants\n",
    "merchant_tokenized_dict = {}\n",
    "for idx in range(len(unique_merchants)):\n",
    "    merchant_tokenized_dict[unique_merchants[idx]] = idx\n",
    "\n",
    "#find unique categories\n",
    "unique_categories = set(list(training_data_clean[\"category\"]))\n",
    "for category in list(test_data_clean[\"category\"]):\n",
    "    unique_categories.add(category)\n",
    "unique_categories = list(unique_categories)\n",
    "print(len(unique_categories))\n",
    "\n",
    "#create tokenization scheme for categories\n",
    "categories_tokenized_dict = {}\n",
    "for idx in range(len(unique_categories)):\n",
    "    categories_tokenized_dict[unique_categories[idx]] = idx\n",
    "\n",
    "#columns to keep: merchant, category, amt, lat, long, unix_time, merch_lat, merch_long, is_fraud\n",
    "#create non-categorical data list\n",
    "non_categorical = []\n",
    "for idx in range(len(training_data_clean[\"cc_num\"])):\n",
    "    element = []\n",
    "    #element.append(training_data_clean[\"cc_num\"][idx])\n",
    "    element.append(training_data_clean[\"amt\"][idx])\n",
    "    element.append(training_data_clean[\"lat\"][idx])\n",
    "    element.append(training_data_clean[\"long\"][idx])\n",
    "    element.append(training_data_clean[\"unix_time\"][idx])\n",
    "    element.append(training_data_clean[\"merch_lat\"][idx])\n",
    "    element.append(training_data_clean[\"merch_long\"][idx])\n",
    "    non_categorical.append(element)\n",
    "print(\"Non-categorical data length:\", len(non_categorical))\n",
    "\n",
    "from keras.utils import to_categorical\n",
    "#format merchant column as one-hot list\n",
    "num_unique_merchants = len(unique_merchants)\n",
    "merchant_categorical = []\n",
    "for idx in range(len(training_data_clean[\"merchant\"])):\n",
    "    element_raw = training_data_clean[\"merchant\"][idx]\n",
    "    element_int = merchant_tokenized_dict[element_raw]\n",
    "    merchant_categorical.append(to_categorical(element_int, num_classes=num_unique_merchants))\n",
    "print(\"Merchant data length:\", len(merchant_categorical))\n",
    "\n",
    "#format category data as one-hot list\n",
    "num_unique_categories = len(unique_categories)\n",
    "category_one_hot = []\n",
    "for idx in range(len(training_data_clean[\"category\"])):\n",
    "    element_raw = training_data_clean[\"category\"][idx]\n",
    "    element_int = categories_tokenized_dict[element_raw]\n",
    "    category_one_hot.append(to_categorical(element_int, num_classes=num_unique_categories))\n",
    "print(\"Category length:\", len(category_one_hot))\n",
    "\n",
    "#create is_fraud list as y column\n",
    "fraud_column = []\n",
    "num_fraud = 0\n",
    "for idx in range(len(training_data_clean[\"is_fraud\"])):\n",
    "    fraud_val = training_data_clean[\"is_fraud\"][idx]\n",
    "    num_fraud += fraud_val\n",
    "    fraud_column.append([fraud_val])\n",
    "print(\"Fraud length:\", len(fraud_column))\n",
    "print(\"Number of fraudulent transactions:\", num_fraud)"
   ]
  },
  {
   "cell_type": "markdown",
   "metadata": {},
   "source": [
    "# subsample data"
   ]
  },
  {
   "cell_type": "code",
   "execution_count": 5,
   "metadata": {},
   "outputs": [
    {
     "name": "stdout",
     "output_type": "stream",
     "text": [
      "Non-categorical shape: (14962, 6)\n",
      "Merchant shape: (14962, 693)\n",
      "Category shape: (14962, 14)\n",
      "Label shape: (14962, 1)\n"
     ]
    }
   ],
   "source": [
    "import random\n",
    "##find all fraud in training data\n",
    "fraud_data_merchant_sample = []\n",
    "fraud_data_category_sample = []\n",
    "fraud_data_non_categorical_sample = []\n",
    "fraud_data_label_sample = []\n",
    "for idx in range(len(training_data_clean[\"is_fraud\"])):\n",
    "    #if the row at idx represents fraud\n",
    "    if(training_data_clean[\"is_fraud\"][idx] == 1):\n",
    "        #add data to fraud data samples according to data type\n",
    "        fraud_data_non_categorical_sample.append(non_categorical[idx])\n",
    "        fraud_data_category_sample.append(category_one_hot[idx])\n",
    "        fraud_data_merchant_sample.append(merchant_categorical[idx])\n",
    "        fraud_data_label_sample.append([1])\n",
    "##add subsample of non-fraud data with equal number of rows to fraud data in training data\n",
    "max_index = len(training_data_clean[\"is_fraud\"]) - 1\n",
    "num_safe_transactions_included = 0\n",
    "while num_safe_transactions_included < num_fraud:\n",
    "    #select random row index in the formatted fraud data above\n",
    "    random_index = random.randint(0, max_index)\n",
    "    #if this data does not represent a fraudulent transaction\n",
    "    if(training_data_clean[\"is_fraud\"][random_index] == 0):\n",
    "        #add the data to fraud_data samples accordingly\n",
    "        fraud_data_non_categorical_sample.append(non_categorical[random_index])\n",
    "        fraud_data_category_sample.append(category_one_hot[random_index])\n",
    "        fraud_data_merchant_sample.append(merchant_categorical[random_index])\n",
    "        fraud_data_label_sample.append([0])\n",
    "    num_safe_transactions_included += 1\n",
    "\n",
    "import numpy as np\n",
    "\n",
    "fraud_data_non_categorical_sample = np.array(fraud_data_non_categorical_sample)\n",
    "print(\"Non-categorical shape:\", fraud_data_non_categorical_sample.shape)\n",
    "fraud_data_merchant_sample = np.array(fraud_data_merchant_sample)\n",
    "print(\"Merchant shape:\", fraud_data_merchant_sample.shape)\n",
    "fraud_data_category_sample = np.array(fraud_data_category_sample)\n",
    "print(\"Category shape:\", fraud_data_category_sample.shape)\n",
    "fraud_data_label_sample = np.array(fraud_data_label_sample)\n",
    "print(\"Label shape:\", fraud_data_label_sample.shape)"
   ]
  },
  {
   "cell_type": "markdown",
   "metadata": {},
   "source": [
    "# Keras environment setup"
   ]
  },
  {
   "cell_type": "code",
   "execution_count": 9,
   "metadata": {},
   "outputs": [],
   "source": [
    "#load ML libraries\n",
    "import hyperopt\n",
    "\n",
    "from hyperopt import fmin, tpe\n",
    "\n",
    "from keras.models import Model, load_model\n",
    "from keras.layers import Dense, Dropout, Input, concatenate\n",
    "\n",
    "from keras import activations\n",
    "from keras import callbacks\n",
    "from keras import regularizers\n",
    "from keras.utils import plot_model\n",
    "\n",
    "from sklearn.model_selection import KFold\n",
    "\n",
    "#define method for generating model\n",
    "def define_model(num_nodes, dropout, kernel_reg, bias_reg):\n",
    "    #define input nodes\n",
    "    input_non_categorical = Input(shape=(6,))\n",
    "    input_merchant_category = Input(shape=(693,))\n",
    "    input_purchase_category = Input(shape=(14,))\n",
    "    #define processing\n",
    "    concat_input = concatenate(inputs=[input_non_categorical, input_merchant_category, input_purchase_category])\n",
    "    dense_layer_1 = Dense(num_nodes, activation=activations.relu, kernel_regularizer=regularizers.l2(kernel_reg), bias_regularizer=regularizers.l2(bias_reg))(concat_input)\n",
    "    dropout_layer_1 = Dropout(dropout)(dense_layer_1)\n",
    "    #dense_layer_2 = Dense(num_nodes // 2, activation=activations.relu, kernel_regularizer=regularizers.l2(kernel_reg), bias_regularizer=regularizers.l2(bias_reg))(dropout_layer_1)\n",
    "    #concat_tail = concatenate(inputs=[dropout_layer_1, input_non_categorical, input_purchase_category])\n",
    "    #dropout_layer_2 = Dropout(dropout / 2)(concat_tail)\n",
    "    #dense_layer_3 = Dense(num_nodes // 2, activation=activations.relu, kernel_regularizer=regularizers.l2(kernel_reg), bias_regularizer=regularizers.l2(bias_reg))(dropout_layer_2)\n",
    "    #define output\n",
    "    #output = Dense(1, activation=activations.sigmoid)(concat_tail)\n",
    "    output = Dense(1, activation=activations.sigmoid)(dropout_layer_1)\n",
    "    #compile and return\n",
    "    network = Model(inputs=[input_non_categorical, input_merchant_category, input_purchase_category], outputs=output)\n",
    "    #network = Model(inputs=[input_non_categorical, input_purchase_category], outputs=output)\n",
    "    network.compile(loss=\"binary_crossentropy\")\n",
    "    return network"
   ]
  },
  {
   "cell_type": "markdown",
   "metadata": {},
   "source": [
    "# hyperparameter Tuning"
   ]
  },
  {
   "cell_type": "code",
   "execution_count": 10,
   "metadata": {},
   "outputs": [
    {
     "name": "stdout",
     "output_type": "stream",
     "text": [
      "100%|██████████| 128/128 [23:11<00:00, 10.87s/trial, best loss: 0.685332453250885]\n",
      "Best parameters: (32, 0.2, 0.025, 0.025)\n",
      "Best loss: 0.685332453250885\n"
     ]
    }
   ],
   "source": [
    "#do hyperparameter tuning here\n",
    "import math\n",
    "import numpy as np\n",
    "\n",
    "best_loss = math.inf\n",
    "best_params = ()\n",
    "\n",
    "def average(data_list):\n",
    "    avg = 0\n",
    "    for idx in range(len(data_list)):\n",
    "        if not np.isnan(data_list[idx]):\n",
    "            avg += data_list[idx]\n",
    "        else:\n",
    "            avg += 10\n",
    "    avg /= len(data_list)\n",
    "    return avg\n",
    "\n",
    "def get_average_cross_validation_accuracy(args):\n",
    "    global best_loss, best_params\n",
    "    max_node_count, dropout, kernel_regularization, bias_regularization = args\n",
    "    data_split = KFold(n_splits=5, shuffle=True)\n",
    "    loss_vals = []\n",
    "    callbacks_list = [callbacks.EarlyStopping(monitor='val_loss', patience=5,), callbacks.ReduceLROnPlateau(monitor='val_loss', factor=0.1,patience=1,)]\n",
    "    for train_index, test_index in data_split.split(fraud_data_non_categorical_sample, fraud_data_label_sample):\n",
    "        #convert data into train and test data\n",
    "        non_categorical_train, non_categorical_test = fraud_data_non_categorical_sample[train_index], fraud_data_non_categorical_sample[test_index]\n",
    "        merchant_cat_train, merchant_cat_test = fraud_data_merchant_sample[train_index], fraud_data_merchant_sample[test_index]\n",
    "        purchase_cat_train, purchase_cat_test = fraud_data_category_sample[train_index], fraud_data_category_sample[test_index]\n",
    "        label_train, label_test = fraud_data_label_sample[train_index], fraud_data_label_sample[test_index]\n",
    "        network = define_model(max_node_count, dropout, kernel_regularization, bias_regularization)\n",
    "        network.fit(x=[non_categorical_train, merchant_cat_train, purchase_cat_train], y=label_train, epochs=20, batch_size=128, validation_split=0.2, callbacks=callbacks_list, verbose=0)\n",
    "        evaluation = network.evaluate(x=[non_categorical_test, merchant_cat_test, purchase_cat_test], y=label_test, verbose=0)\n",
    "        #network.fit(x=[non_categorical_train, purchase_cat_train], y=label_train, epochs=20, batch_size=128, validation_split=0.2, callbacks=callbacks_list, verbose=0)\n",
    "        #evaluation = network.evaluate(x=[non_categorical_test, purchase_cat_test], y=label_test, verbose=0)\n",
    "        loss_vals.append(evaluation)\n",
    "        del network\n",
    "        del non_categorical_train, non_categorical_test\n",
    "        del merchant_cat_train, merchant_cat_test\n",
    "        del label_train, label_test\n",
    "    average_loss = average(loss_vals)\n",
    "    if average_loss < best_loss:\n",
    "        best_params = args\n",
    "        best_loss = average_loss\n",
    "    return average_loss\n",
    "\n",
    "def optimize_hyperparameters():\n",
    "    max_node_counts = [32, 64, 128, 256, 512]\n",
    "    dropout_values = [0.2, 0.3, 0.4, 0.5, 0.6]\n",
    "    kernel_reg_list = [0.01, 0.025, 0.05]\n",
    "    bias_reg_list = [0.01, 0.025, 0.05]\n",
    "    case_list = []\n",
    "    for max_node_count in max_node_counts:\n",
    "        for dropout_value in dropout_values:\n",
    "            for kernel_reg in kernel_reg_list:\n",
    "                for bias_reg in bias_reg_list:\n",
    "                    case_list.append((max_node_count, dropout_value, kernel_reg, bias_reg))\n",
    "    feature_space = hyperopt.hp.choice('a', case_list)\n",
    "    fmin(get_average_cross_validation_accuracy, feature_space, algo=tpe.suggest, max_evals=128)\n",
    "\n",
    "optimize_hyperparameters()\n",
    "print(\"Best parameters:\", best_params)\n",
    "print(\"Best loss:\", best_loss)"
   ]
  },
  {
   "cell_type": "markdown",
   "metadata": {},
   "source": [
    "# Train Neural Network"
   ]
  },
  {
   "cell_type": "code",
   "execution_count": 31,
   "metadata": {
    "scrolled": false
   },
   "outputs": [
    {
     "name": "stdout",
     "output_type": "stream",
     "text": [
      "Train on 11976 samples, validate on 2994 samples\n",
      "Epoch 1/20\n",
      "11976/11976 [==============================] - 1s 107us/step - loss: 6999204.8599 - val_loss: 2048748.4890\n",
      "Epoch 2/20\n",
      "11976/11976 [==============================] - 0s 35us/step - loss: 1249072.1383 - val_loss: 0.0266\n",
      "Epoch 3/20\n",
      "11976/11976 [==============================] - 0s 36us/step - loss: 29302.3100 - val_loss: 0.0229\n",
      "Epoch 4/20\n",
      "11976/11976 [==============================] - 0s 36us/step - loss: 2000.6421 - val_loss: 1876.2998\n",
      "Epoch 5/20\n",
      "11976/11976 [==============================] - 0s 35us/step - loss: 1398.7321 - val_loss: 3353.5233\n",
      "Epoch 6/20\n",
      "11976/11976 [==============================] - 0s 36us/step - loss: 820.8241 - val_loss: 0.0207\n",
      "Epoch 7/20\n",
      "11976/11976 [==============================] - 0s 36us/step - loss: 786.7415 - val_loss: 0.0204\n",
      "Epoch 8/20\n",
      "11976/11976 [==============================] - 0s 36us/step - loss: 954.4176 - val_loss: 4143.0151\n",
      "Epoch 9/20\n",
      "11976/11976 [==============================] - 0s 35us/step - loss: 673.5271 - val_loss: 664.8245\n",
      "Epoch 10/20\n",
      "11976/11976 [==============================] - 0s 35us/step - loss: 361.9006 - val_loss: 0.0194\n",
      "Epoch 11/20\n",
      "11976/11976 [==============================] - 0s 35us/step - loss: 199.5560 - val_loss: 258.3486\n",
      "Epoch 12/20\n",
      "11976/11976 [==============================] - 0s 36us/step - loss: 143.8127 - val_loss: 0.0188\n",
      "Epoch 13/20\n",
      "11976/11976 [==============================] - 0s 35us/step - loss: 91.5522 - val_loss: 0.0184\n",
      "Epoch 14/20\n",
      "11976/11976 [==============================] - 0s 35us/step - loss: 71.6738 - val_loss: 0.0181\n",
      "Epoch 15/20\n",
      "11976/11976 [==============================] - 0s 36us/step - loss: 39.3162 - val_loss: 31.4842\n",
      "Epoch 16/20\n",
      "11976/11976 [==============================] - 0s 36us/step - loss: 10.4157 - val_loss: 12.2996\n",
      "Epoch 17/20\n",
      "11976/11976 [==============================] - 0s 35us/step - loss: 2.3373 - val_loss: 9.8840\n",
      "Epoch 18/20\n",
      "11976/11976 [==============================] - 0s 36us/step - loss: 1.2920 - val_loss: 0.4314\n",
      "Epoch 19/20\n",
      "11976/11976 [==============================] - 0s 36us/step - loss: 0.9896 - val_loss: 1.0387\n"
     ]
    }
   ],
   "source": [
    "#Train neural network here\n",
    "import os\n",
    "#os.mkdir(\"cc_fraud_detector\")\n",
    "\n",
    "callbacks_list = [callbacks.EarlyStopping(monitor='val_loss', patience=5,)]\n",
    "try:\n",
    "    max_node_count, dropout_value, kernel_reg, bias_reg = best_params\n",
    "except:\n",
    "    max_node_count, dropout_value, kernel_reg, bias_reg = 32, 0.2, 0.025, 0.025\n",
    "\n",
    "network = define_model(max_node_count, dropout_value, kernel_reg, bias_reg)\n",
    "history = network.fit(x=[fraud_data_non_categorical_sample, fraud_data_merchant_sample, fraud_data_category_sample], y=fraud_data_label_sample, epochs=20, batch_size=128, validation_split=0.2, callbacks=callbacks_list)\n",
    "#history = network.fit(x=[fraud_data_non_categorical_sample, fraud_data_category_sample], y=fraud_data_label_sample, epochs=20, batch_size=128, validation_split=0.2, callbacks=callbacks_list)\n",
    "plot_model(network, to_file='cc_fraud_detector.png', show_shapes=True)"
   ]
  },
  {
   "cell_type": "markdown",
   "metadata": {},
   "source": [
    "# False positive and negative rates"
   ]
  },
  {
   "cell_type": "code",
   "execution_count": 23,
   "metadata": {},
   "outputs": [
    {
     "name": "stdout",
     "output_type": "stream",
     "text": [
      "1296675/1296675 [==============================] - 8s 6us/step\n",
      "True positives: 7506\n",
      "True negatives: 0\n",
      "False positives: 1289169\n",
      "False negatives: 0\n"
     ]
    }
   ],
   "source": [
    "#make predictions based on ALL data rows (1296675 rows)\n",
    "prediction = network.predict([non_categorical, merchant_categorical, category_one_hot], batch_size=128, verbose=1, use_multiprocessing=True)\n",
    "prediction = prediction.reshape((1296675))\n",
    "prediction = prediction.tolist()\n",
    "truth_values = np.array(training_data_clean[\"is_fraud\"]).reshape((1296675))\n",
    "truth_values = truth_values.tolist()\n",
    "#create counts for false pos, false negative, true pos, and true negative\n",
    "false_pos_count = 0\n",
    "false_negative_count = 0\n",
    "true_pos_count = 0\n",
    "true_negative_count = 0\n",
    "#for each prediction\n",
    "for idx in range(1296675):\n",
    "    #compare each prediction to the true value\n",
    "    #increment appropriate count\n",
    "    if(abs(prediction[idx] - truth_values[idx]) < 0.5):\n",
    "        if(int(truth_values[idx]) == 0):\n",
    "            true_negative_count += 1\n",
    "        else:\n",
    "            true_pos_count += 1\n",
    "    else:\n",
    "        if(int(truth_values[idx]) == 0):\n",
    "            false_pos_count += 1\n",
    "        else:\n",
    "            false_negative_count += 1\n",
    "#output\n",
    "print(\"True positives:\", true_pos_count)\n",
    "print(\"True negatives:\", true_negative_count)\n",
    "print(\"False positives:\", false_pos_count)\n",
    "print(\"False negatives:\", false_negative_count)"
   ]
  },
  {
   "cell_type": "markdown",
   "metadata": {},
   "source": [
    "# Evaluate on test set"
   ]
  },
  {
   "cell_type": "code",
   "execution_count": 29,
   "metadata": {},
   "outputs": [
    {
     "name": "stdout",
     "output_type": "stream",
     "text": [
      "1.0415509112926966\n",
      "{'val_loss': [986944.9451402805, 20466.413291426605, 0.017238952219486237, 15944.724000735847, 0.01613517850637436, 13362.053722027387, 294.20599477356404, 0.015318620949983597, 2466.092094997286, 3440.411817123831, 0.014605141244828701, 0.014344729483127594, 185.6782540096469, 27.894352156716185, 1.435651861673685, 1.3124525739737327, 1.0449346056283915], 'loss': [7020387.8559619235, 304408.5956783358, 11525.634831348896, 5185.692391129916, 2840.280045523991, 1876.2393422913535, 1310.6587496281625, 1702.8371943268046, 1101.9295978839189, 932.8935347093927, 410.93460947366736, 189.7249097906914, 71.31185670494635, 42.09237258818123, 1.5221927117807672, 0.7182963884665159, 0.746050506571411]}\n"
     ]
    }
   ],
   "source": [
    "#evaluate\n",
    "print(network.evaluate([non_categorical, merchant_categorical, category_one_hot], np.array(training_data_clean[\"is_fraud\"]), verbose=0))\n",
    "print(history.history)"
   ]
  },
  {
   "cell_type": "markdown",
   "metadata": {},
   "source": [
    "# Random Forest"
   ]
  },
  {
   "cell_type": "code",
   "execution_count": 8,
   "metadata": {},
   "outputs": [
    {
     "name": "stderr",
     "output_type": "stream",
     "text": [
      "/Users/Jerome/opt/anaconda3/lib/python3.7/site-packages/ipykernel_launcher.py:18: DataConversionWarning: A column-vector y was passed when a 1d array was expected. Please change the shape of y to (n_samples,), for example using ravel().\n"
     ]
    }
   ],
   "source": [
    "from sklearn.ensemble import RandomForestClassifier\n",
    "from sklearn.metrics import classification_report, accuracy_score,precision_score,recall_score,f1_score,matthews_corrcoef\n",
    "from sklearn.metrics import confusion_matrix\n",
    "import seaborn as sns\n",
    "import matplotlib.pyplot as plt\n",
    "from sklearn.model_selection import train_test_split\n",
    "\n",
    "fraud_data_non_categorical_sample_train, fraud_data_non_categorical_sample_test, fraud_data_merchant_sample_train, \\\n",
    "fraud_data_merchant_sample_test, fraud_data_category_sample_train, fraud_data_category_sample_test, \\\n",
    "fraud_data_label_sample_train, fraud_data_label_sample_test = train_test_split(fraud_data_non_categorical_sample, fraud_data_merchant_sample, fraud_data_category_sample, fraud_data_label_sample, test_size=0.2, random_state=1)\n",
    "\n",
    "# Combine the subsampled Transactional and Non-Transactional data into one array of data\n",
    "comb_train_sub = np.hstack((fraud_data_non_categorical_sample_train, fraud_data_merchant_sample_train, fraud_data_category_sample_train))\n",
    "comb_test_sub = np.hstack((fraud_data_non_categorical_sample_test, fraud_data_merchant_sample_test, fraud_data_category_sample_test))\n",
    "\n",
    "# Random Forest of subsampled data\n",
    "RFC = RandomForestClassifier()\n",
    "RFC.fit(comb_train_sub,fraud_data_label_sample_train)"
   ]
  },
  {
   "cell_type": "code",
   "execution_count": 15,
   "metadata": {},
   "outputs": [
    {
     "data": {
      "image/png": "[encoded data removed]",
      "text/plain": [
       "<Figure size 864x864 with 2 Axes>"
      ]
     },
     "metadata": {
      "needs_background": "light"
     },
     "output_type": "display_data"
    },
    {
     "name": "stdout",
     "output_type": "stream",
     "text": [
      "              precision    recall  f1-score   support\n",
      "\n",
      "           0       0.92      0.97      0.95      1493\n",
      "           1       0.97      0.92      0.94      1500\n",
      "\n",
      "    accuracy                           0.95      2993\n",
      "   macro avg       0.95      0.95      0.95      2993\n",
      "weighted avg       0.95      0.95      0.95      2993\n",
      "\n"
     ]
    },
    {
     "data": {
      "text/plain": [
       "<Figure size 648x504 with 0 Axes>"
      ]
     },
     "metadata": {},
     "output_type": "display_data"
    }
   ],
   "source": [
    "y_pred = RFC.predict(comb_test_sub)\n",
    "\n",
    "# Random Forest trained and tested on subsampled data\n",
    "LABELS = ['Not Fraud', 'Fraud']\n",
    "conf_matrix = confusion_matrix(fraud_data_label_sample_test, y_pred)\n",
    "plt.figure(figsize=(12, 12))\n",
    "sns.heatmap(conf_matrix, xticklabels=LABELS, yticklabels=LABELS, annot=True, fmt=\"d\");\n",
    "plt.title(\"Random Forest Confusion Matrix on Subsampled Data\")\n",
    "plt.ylabel('True class')\n",
    "plt.xlabel('Predicted class')\n",
    "plt.show()\n",
    "plt.figure(figsize=(9, 7))\n",
    "\n",
    "print(classification_report(fraud_data_label_sample_test, y_pred))"
   ]
  },
  {
   "cell_type": "code",
   "execution_count": 26,
   "metadata": {},
   "outputs": [
    {
     "name": "stdout",
     "output_type": "stream",
     "text": [
      "Non-categorical data length: 555719\n",
      "Merchant data length: 555719\n",
      "Category length: 555719\n"
     ]
    }
   ],
   "source": [
    "non_categorical_test = []\n",
    "for idx in range(len(test_data_clean[\"cc_num\"])):\n",
    "    element = []\n",
    "    #element.append(test_data_clean[\"cc_num\"][idx])\n",
    "    element.append(test_data_clean[\"amt\"][idx])\n",
    "    element.append(test_data_clean[\"lat\"][idx])\n",
    "    element.append(test_data_clean[\"long\"][idx])\n",
    "    element.append(test_data_clean[\"unix_time\"][idx])\n",
    "    element.append(test_data_clean[\"merch_lat\"][idx])\n",
    "    element.append(test_data_clean[\"merch_long\"][idx])\n",
    "    non_categorical_test.append(element)\n",
    "print(\"Non-categorical data length:\", len(non_categorical_test))\n",
    "\n",
    "from keras.utils import to_categorical\n",
    "#format merchant column as one-hot list\n",
    "num_unique_merchants = len(unique_merchants)\n",
    "merchant_categorical_test = []\n",
    "for idx in range(len(test_data_clean[\"merchant\"])):\n",
    "    element_raw = test_data_clean[\"merchant\"][idx]\n",
    "    element_int = merchant_tokenized_dict[element_raw]\n",
    "    merchant_categorical_test.append(to_categorical(element_int, num_classes=num_unique_merchants))\n",
    "print(\"Merchant data length:\", len(merchant_categorical_test))\n",
    "\n",
    "#format category data as one-hot list\n",
    "num_unique_categories = len(unique_categories)\n",
    "category_one_hot_test = []\n",
    "for idx in range(len(test_data_clean[\"category\"])):\n",
    "    element_raw = test_data_clean[\"category\"][idx]\n",
    "    element_int = categories_tokenized_dict[element_raw]\n",
    "    category_one_hot_test.append(to_categorical(element_int, num_classes=num_unique_categories))\n",
    "print(\"Category length:\", len(category_one_hot_test))\n",
    "\n",
    "fraud_data_label = np.array(training_data_clean['is_fraud']).reshape(-1, 1)\n",
    "fraud_data_label_test = np.array(test_data_clean['is_fraud']).reshape(-1, 1)"
   ]
  },
  {
   "cell_type": "code",
   "execution_count": 36,
   "metadata": {},
   "outputs": [],
   "source": [
    "# Combine the subsampled Transactional and Non-Transactional data into one array of data\n",
    "comb_train = np.hstack((non_categorical, merchant_categorical, category_one_hot))\n",
    "comb_test = np.hstack((non_categorical_test, merchant_categorical_test, category_one_hot_test))"
   ]
  },
  {
   "cell_type": "code",
   "execution_count": 37,
   "metadata": {},
   "outputs": [
    {
     "data": {
      "image/png": "[encoded data removed]",
      "text/plain": [
       "<Figure size 864x864 with 2 Axes>"
      ]
     },
     "metadata": {
      "needs_background": "light"
     },
     "output_type": "display_data"
    },
    {
     "name": "stdout",
     "output_type": "stream",
     "text": [
      "              precision    recall  f1-score   support\n",
      "\n",
      "           0       1.00      0.96      0.98    553574\n",
      "           1       0.09      0.90      0.16      2145\n",
      "\n",
      "    accuracy                           0.96    555719\n",
      "   macro avg       0.54      0.93      0.57    555719\n",
      "weighted avg       1.00      0.96      0.98    555719\n",
      "\n"
     ]
    },
    {
     "data": {
      "text/plain": [
       "<Figure size 648x504 with 0 Axes>"
      ]
     },
     "metadata": {},
     "output_type": "display_data"
    }
   ],
   "source": [
    "# Random Forest trained on subsampled data, tested on full test set\n",
    "y_pred = RFC.predict(comb_test)\n",
    "\n",
    "LABELS = ['Not Fraud', 'Fraud']\n",
    "conf_matrix = confusion_matrix(fraud_data_label_test, y_pred)\n",
    "plt.figure(figsize=(12, 12))\n",
    "sns.heatmap(conf_matrix, xticklabels=LABELS, yticklabels=LABELS, annot=True, fmt=\"d\");\n",
    "plt.title(\"Random Forest Confusion Matrix\")\n",
    "plt.ylabel('True class')\n",
    "plt.xlabel('Predicted class')\n",
    "plt.show()\n",
    "plt.figure(figsize=(9, 7))\n",
    "\n",
    "print(classification_report(fraud_data_label_test, y_pred))"
   ]
  },
  {
   "cell_type": "markdown",
   "metadata": {},
   "source": [
    "# SMOTE"
   ]
  },
  {
   "cell_type": "code",
   "execution_count": 41,
   "metadata": {},
   "outputs": [],
   "source": [
    "from imblearn.over_sampling import SMOTE \n",
    "\n",
    "smote = SMOTE(random_state=1)\n",
    "comb_data_smote, fraud_truth_value_smote = smote.fit_resample(comb_train, fraud_data_label)"
   ]
  },
  {
   "cell_type": "code",
   "execution_count": 42,
   "metadata": {},
   "outputs": [
    {
     "data": {
      "text/plain": [
       "RandomForestClassifier()"
      ]
     },
     "execution_count": 42,
     "metadata": {},
     "output_type": "execute_result"
    }
   ],
   "source": [
    "RFC = RandomForestClassifier()\n",
    "RFC.fit(comb_data_smote, fraud_truth_value_smote)"
   ]
  },
  {
   "cell_type": "code",
   "execution_count": 44,
   "metadata": {},
   "outputs": [
    {
     "data": {
      "image/png": "[encoded data removed]",
      "text/plain": [
       "<Figure size 864x864 with 2 Axes>"
      ]
     },
     "metadata": {
      "needs_background": "light"
     },
     "output_type": "display_data"
    },
    {
     "name": "stdout",
     "output_type": "stream",
     "text": [
      "              precision    recall  f1-score   support\n",
      "\n",
      "           0       1.00      1.00      1.00    553574\n",
      "           1       0.79      0.46      0.58      2145\n",
      "\n",
      "    accuracy                           1.00    555719\n",
      "   macro avg       0.89      0.73      0.79    555719\n",
      "weighted avg       1.00      1.00      1.00    555719\n",
      "\n"
     ]
    },
    {
     "data": {
      "text/plain": [
       "<Figure size 648x504 with 0 Axes>"
      ]
     },
     "metadata": {},
     "output_type": "display_data"
    }
   ],
   "source": [
    "# Random Forest trained on smote data, tested on full test set\n",
    "y_pred = RFC.predict(comb_test)\n",
    "\n",
    "LABELS = ['Not Fraud', 'Fraud']\n",
    "conf_matrix = confusion_matrix(fraud_data_label_test, y_pred)\n",
    "plt.figure(figsize=(12, 12))\n",
    "sns.heatmap(conf_matrix, xticklabels=LABELS, yticklabels=LABELS, annot=True, fmt=\"d\");\n",
    "plt.title(\"Random Forest Confusion Matrix\")\n",
    "plt.ylabel('True class')\n",
    "plt.xlabel('Predicted class')\n",
    "plt.show()\n",
    "plt.figure(figsize=(9, 7))\n",
    "\n",
    "print(classification_report(fraud_data_label_test, y_pred))"
   ]
  },
  {
   "cell_type": "code",
   "execution_count": null,
   "metadata": {},
   "outputs": [],
   "source": []
  }
 ],
 "metadata": {
  "interpreter": {
   "hash": "b4a56ac7d8a0ccd50127e345ccc30f7d61dbad599a11a46d4752f0ccdb34e3a5"
  },
  "kernelspec": {
   "display_name": "Python 3",
   "language": "python",
   "name": "python3"
  },
  "language_info": {
   "codemirror_mode": {
    "name": "ipython",
    "version": 3
   },
   "file_extension": ".py",
   "mimetype": "text/x-python",
   "name": "python",
   "nbconvert_exporter": "python",
   "pygments_lexer": "ipython3",
   "version": "3.7.6"
  }
 },
 "nbformat": 4,
 "nbformat_minor": 2
}
