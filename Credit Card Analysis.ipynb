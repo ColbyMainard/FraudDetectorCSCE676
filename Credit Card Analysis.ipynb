{
 "cells": [
  {
   "cell_type": "markdown",
   "metadata": {},
   "source": [
    "#credit card transaction fraud"
   ]
  },
  {
   "cell_type": "markdown",
   "metadata": {},
   "source": [
    "#loading data"
   ]
  },
  {
   "cell_type": "code",
   "execution_count": 1,
   "metadata": {},
   "outputs": [],
   "source": [
    "import pandas as pd\n",
    "import os\n",
    "\n",
    "training_data_path = \"fraudTrain.csv\"\n",
    "test_data_path = \"fraudTest.csv\"\n",
    "\n",
    "training_data_raw = pd.read_csv(training_data_path)\n",
    "test_data_raw = pd.read_csv(test_data_path)"
   ]
  },
  {
   "cell_type": "markdown",
   "metadata": {},
   "source": [
    "#cleaning data"
   ]
  },
  {
   "cell_type": "code",
   "execution_count": 2,
   "metadata": {},
   "outputs": [],
   "source": [
    "#data cleaning here\n",
    "training_data_clean = {\"cc_num\": [], \"merchant\": [], \"category\": [], \"amt\": [], \"first\": [], \"last\": [], \"gender\": [], \"lat\": [], \"long\": [], \"city_pop\": [], \"job\": [], \"unix_time\": [], \"merch_lat\": [], \"merch_long\": [], \"is_fraud\": []}\n",
    "for idx in range(len(training_data_raw[\"cc_num\"])):\n",
    "    for key in training_data_clean.keys():\n",
    "        training_data_clean[key].append(training_data_raw[key][idx])\n",
    "training_data_clean = pd.DataFrame.from_dict(training_data_clean)\n",
    "training_data_clean.to_csv(\"credit_card_fraud_clean_train.csv\", index=False)\n",
    "\n",
    "test_data_clean = {\"cc_num\": [], \"merchant\": [], \"category\": [], \"amt\": [], \"first\": [], \"last\": [], \"gender\": [], \"lat\": [], \"long\": [], \"city_pop\": [], \"job\": [], \"unix_time\": [], \"merch_lat\": [], \"merch_long\": [], \"is_fraud\": []}\n",
    "for idx in range(len(test_data_raw[\"cc_num\"])):\n",
    "    for key in test_data_clean.keys():\n",
    "        test_data_clean[key].append(test_data_raw[key][idx])\n",
    "test_data_clean = pd.DataFrame.from_dict(test_data_clean)\n",
    "test_data_clean.to_csv(\"credit_card_fraud_clean_test.csv\", index=False)"
   ]
  },
  {
   "cell_type": "markdown",
   "metadata": {},
   "source": [
    "#Preprocess data for neural network"
   ]
  },
  {
   "cell_type": "code",
   "execution_count": 3,
   "metadata": {},
   "outputs": [
    {
     "name": "stdout",
     "output_type": "stream",
     "text": [
      "693\n",
      "14\n",
      "Non-categorical data length: 1296675\n",
      "Merchant data length: 1296675\n",
      "Category length: 1296675\n",
      "Fraud length: 1296675\n",
      "Number of fraudulent transactions: 7506\n"
     ]
    }
   ],
   "source": [
    "#Handle subselection of columns for the neural network\n",
    "#columns to keep: cc_num, merchant, category, amt, lat, long, unix_time, merch_lat, merch_long, is_fraud\n",
    "\n",
    "#find unique merchants\n",
    "unique_merchants = set(list(training_data_clean[\"merchant\"]))\n",
    "for merchant in list(test_data_clean[\"merchant\"]):\n",
    "    unique_merchants.add(merchant)\n",
    "unique_merchants = list(unique_merchants)\n",
    "print(len(unique_merchants))\n",
    "\n",
    "#create tokenization scheme for merchants\n",
    "merchant_tokenized_dict = {}\n",
    "for idx in range(len(unique_merchants)):\n",
    "    merchant_tokenized_dict[unique_merchants[idx]] = idx\n",
    "\n",
    "#find unique categories\n",
    "unique_categories = set(list(training_data_clean[\"category\"]))\n",
    "for category in list(test_data_clean[\"category\"]):\n",
    "    unique_categories.add(category)\n",
    "unique_categories = list(unique_categories)\n",
    "print(len(unique_categories))\n",
    "\n",
    "#create tokenization scheme for categories\n",
    "categories_tokenized_dict = {}\n",
    "for idx in range(len(unique_categories)):\n",
    "    categories_tokenized_dict[unique_categories[idx]] = idx\n",
    "\n",
    "#columns to keep: merchant, category, amt, lat, long, unix_time, merch_lat, merch_long, is_fraud\n",
    "#create non-categorical data list\n",
    "non_categorical = []\n",
    "for idx in range(len(training_data_clean[\"cc_num\"])):\n",
    "    element = []\n",
    "    #element.append(training_data_clean[\"cc_num\"][idx])\n",
    "    element.append(training_data_clean[\"amt\"][idx])\n",
    "    element.append(training_data_clean[\"lat\"][idx])\n",
    "    element.append(training_data_clean[\"long\"][idx])\n",
    "    element.append(training_data_clean[\"unix_time\"][idx])\n",
    "    element.append(training_data_clean[\"merch_lat\"][idx])\n",
    "    element.append(training_data_clean[\"merch_long\"][idx])\n",
    "    non_categorical.append(element)\n",
    "print(\"Non-categorical data length:\", len(non_categorical))\n",
    "\n",
    "from keras.utils import to_categorical\n",
    "#format merchant column as one-hot list\n",
    "num_unique_merchants = len(unique_merchants)\n",
    "merchant_categorical = []\n",
    "for idx in range(len(training_data_clean[\"merchant\"])):\n",
    "    element_raw = training_data_clean[\"merchant\"][idx]\n",
    "    element_int = merchant_tokenized_dict[element_raw]\n",
    "    merchant_categorical.append(to_categorical(element_int, num_classes=num_unique_merchants))\n",
    "print(\"Merchant data length:\", len(merchant_categorical))\n",
    "\n",
    "#format category data as one-hot list\n",
    "num_unique_categories = len(unique_categories)\n",
    "category_one_hot = []\n",
    "for idx in range(len(training_data_clean[\"category\"])):\n",
    "    element_raw = training_data_clean[\"category\"][idx]\n",
    "    element_int = categories_tokenized_dict[element_raw]\n",
    "    category_one_hot.append(to_categorical(element_int, num_classes=num_unique_categories))\n",
    "print(\"Category length:\", len(category_one_hot))\n",
    "\n",
    "#create is_fraud list as y column\n",
    "fraud_column = []\n",
    "num_fraud = 0\n",
    "for idx in range(len(training_data_clean[\"is_fraud\"])):\n",
    "    fraud_val = training_data_clean[\"is_fraud\"][idx]\n",
    "    num_fraud += fraud_val\n",
    "    fraud_column.append([fraud_val])\n",
    "print(\"Fraud length:\", len(fraud_column))\n",
    "print(\"Number of fraudulent transactions:\", num_fraud)"
   ]
  },
  {
   "cell_type": "markdown",
   "metadata": {},
   "source": [
    "#subsample data"
   ]
  },
  {
   "cell_type": "code",
   "execution_count": 4,
   "metadata": {},
   "outputs": [
    {
     "name": "stdout",
     "output_type": "stream",
     "text": [
      "Non-categorical shape: (14966, 6)\n",
      "Merchant shape: (14966, 693)\n",
      "Category shape: (14966, 14)\n",
      "Label shape: (14966, 1)\n"
     ]
    }
   ],
   "source": [
    "import random\n",
    "##find all fraud in training data\n",
    "fraud_data_merchant_sample = []\n",
    "fraud_data_category_sample = []\n",
    "fraud_data_non_categorical_sample = []\n",
    "fraud_data_label_sample = []\n",
    "for idx in range(len(training_data_clean[\"is_fraud\"])):\n",
    "    #if the row at idx represents fraud\n",
    "    if(training_data_clean[\"is_fraud\"][idx] == 1):\n",
    "        #add data to fraud data samples according to data type\n",
    "        fraud_data_non_categorical_sample.append(non_categorical[idx])\n",
    "        fraud_data_category_sample.append(category_one_hot[idx])\n",
    "        fraud_data_merchant_sample.append(merchant_categorical[idx])\n",
    "        fraud_data_label_sample.append([1])\n",
    "##add subsample of non-fraud data with equal number of rows to fraud data in training data\n",
    "max_index = len(training_data_clean[\"is_fraud\"]) - 1\n",
    "num_safe_transactions_included = 0\n",
    "while num_safe_transactions_included < num_fraud:\n",
    "    #select random row index in the formatted fraud data above\n",
    "    random_index = random.randint(0, max_index)\n",
    "    #if this data does not represent a fraudulent transaction\n",
    "    if(training_data_clean[\"is_fraud\"][random_index] == 0):\n",
    "        #add the data to fraud_data samples accordingly\n",
    "        fraud_data_non_categorical_sample.append(non_categorical[random_index])\n",
    "        fraud_data_category_sample.append(category_one_hot[random_index])\n",
    "        fraud_data_merchant_sample.append(merchant_categorical[random_index])\n",
    "        fraud_data_label_sample.append([0])\n",
    "    num_safe_transactions_included += 1\n",
    "\n",
    "import numpy as np\n",
    "\n",
    "fraud_data_non_categorical_sample = np.array(fraud_data_non_categorical_sample)\n",
    "print(\"Non-categorical shape:\", fraud_data_non_categorical_sample.shape)\n",
    "fraud_data_merchant_sample = np.array(fraud_data_merchant_sample)\n",
    "print(\"Merchant shape:\", fraud_data_merchant_sample.shape)\n",
    "fraud_data_category_sample = np.array(fraud_data_category_sample)\n",
    "print(\"Category shape:\", fraud_data_category_sample.shape)\n",
    "fraud_data_label_sample = np.array(fraud_data_label_sample)\n",
    "print(\"Label shape:\", fraud_data_label_sample.shape)"
   ]
  },
  {
   "cell_type": "markdown",
   "metadata": {},
   "source": [
    "#Keras environment setup"
   ]
  },
  {
   "cell_type": "code",
   "execution_count": 7,
   "metadata": {},
   "outputs": [],
   "source": [
    "#load ML libraries\n",
    "import hyperopt\n",
    "\n",
    "from hyperopt import fmin, tpe\n",
    "\n",
    "from keras.models import Model, load_model\n",
    "from keras.layers import Dense, Dropout, Input, concatenate\n",
    "\n",
    "from keras import activations\n",
    "from keras import callbacks\n",
    "from keras import regularizers\n",
    "from keras.utils import plot_model\n",
    "\n",
    "from sklearn.model_selection import KFold\n",
    "\n",
    "#define method for generating model\n",
    "def define_model(num_nodes, dropout, kernel_reg, bias_reg):\n",
    "    #define input nodes\n",
    "    input_non_categorical = Input(shape=(6,))\n",
    "    input_merchant_category = Input(shape=(693,))\n",
    "    input_purchase_category = Input(shape=(14,))\n",
    "    #define processing\n",
    "    concat_input = concatenate(inputs=[input_non_categorical, input_merchant_category, input_purchase_category])\n",
    "    dense_layer_1 = Dense(num_nodes, activation=activations.relu, kernel_regularizer=regularizers.l2(kernel_reg), bias_regularizer=regularizers.l2(bias_reg))(concat_input)\n",
    "    dropout_layer_1 = Dropout(dropout)(dense_layer_1)\n",
    "    #dense_layer_2 = Dense(num_nodes // 2, activation=activations.relu, kernel_regularizer=regularizers.l2(kernel_reg), bias_regularizer=regularizers.l2(bias_reg))(dropout_layer_1)\n",
    "    #concat_tail = concatenate(inputs=[dropout_layer_1, input_non_categorical, input_purchase_category])\n",
    "    #dropout_layer_2 = Dropout(dropout / 2)(concat_tail)\n",
    "    #dense_layer_3 = Dense(num_nodes // 2, activation=activations.relu, kernel_regularizer=regularizers.l2(kernel_reg), bias_regularizer=regularizers.l2(bias_reg))(dropout_layer_2)\n",
    "    #define output\n",
    "    #output = Dense(1, activation=activations.sigmoid)(concat_tail)\n",
    "    output = Dense(1, activation=activations.sigmoid)(dropout_layer_1)\n",
    "    #compile and return\n",
    "    network = Model(inputs=[input_non_categorical, input_merchant_category, input_purchase_category], outputs=output)\n",
    "    #network = Model(inputs=[input_non_categorical, input_purchase_category], outputs=output)\n",
    "    network.compile(loss=\"binary_crossentropy\")\n",
    "    return network"
   ]
  },
  {
   "cell_type": "markdown",
   "metadata": {},
   "source": [
    "#hyperparameter Tuning"
   ]
  },
  {
   "cell_type": "code",
   "execution_count": 10,
   "metadata": {},
   "outputs": [
    {
     "name": "stdout",
     "output_type": "stream",
     "text": [
      "100%|██████████| 128/128 [23:11<00:00, 10.87s/trial, best loss: 0.685332453250885]\n",
      "Best parameters: (32, 0.2, 0.025, 0.025)\n",
      "Best loss: 0.685332453250885\n"
     ]
    }
   ],
   "source": [
    "#do hyperparameter tuning here\n",
    "import math\n",
    "import numpy as np\n",
    "\n",
    "best_loss = math.inf\n",
    "best_params = ()\n",
    "\n",
    "def average(data_list):\n",
    "    avg = 0\n",
    "    for idx in range(len(data_list)):\n",
    "        if not np.isnan(data_list[idx]):\n",
    "            avg += data_list[idx]\n",
    "        else:\n",
    "            avg += 10\n",
    "    avg /= len(data_list)\n",
    "    return avg\n",
    "\n",
    "def get_average_cross_validation_accuracy(args):\n",
    "    global best_loss, best_params\n",
    "    max_node_count, dropout, kernel_regularization, bias_regularization = args\n",
    "    data_split = KFold(n_splits=5, shuffle=True)\n",
    "    loss_vals = []\n",
    "    callbacks_list = [callbacks.EarlyStopping(monitor='val_loss', patience=5,), callbacks.ReduceLROnPlateau(monitor='val_loss', factor=0.1,patience=1,)]\n",
    "    for train_index, test_index in data_split.split(fraud_data_non_categorical_sample, fraud_data_label_sample):\n",
    "        #convert data into train and test data\n",
    "        non_categorical_train, non_categorical_test = fraud_data_non_categorical_sample[train_index], fraud_data_non_categorical_sample[test_index]\n",
    "        merchant_cat_train, merchant_cat_test = fraud_data_merchant_sample[train_index], fraud_data_merchant_sample[test_index]\n",
    "        purchase_cat_train, purchase_cat_test = fraud_data_category_sample[train_index], fraud_data_category_sample[test_index]\n",
    "        label_train, label_test = fraud_data_label_sample[train_index], fraud_data_label_sample[test_index]\n",
    "        network = define_model(max_node_count, dropout, kernel_regularization, bias_regularization)\n",
    "        network.fit(x=[non_categorical_train, merchant_cat_train, purchase_cat_train], y=label_train, epochs=20, batch_size=128, validation_split=0.2, callbacks=callbacks_list, verbose=0)\n",
    "        evaluation = network.evaluate(x=[non_categorical_test, merchant_cat_test, purchase_cat_test], y=label_test, verbose=0)\n",
    "        #network.fit(x=[non_categorical_train, purchase_cat_train], y=label_train, epochs=20, batch_size=128, validation_split=0.2, callbacks=callbacks_list, verbose=0)\n",
    "        #evaluation = network.evaluate(x=[non_categorical_test, purchase_cat_test], y=label_test, verbose=0)\n",
    "        loss_vals.append(evaluation)\n",
    "        del network\n",
    "        del non_categorical_train, non_categorical_test\n",
    "        del merchant_cat_train, merchant_cat_test\n",
    "        del label_train, label_test\n",
    "    average_loss = average(loss_vals)\n",
    "    if average_loss < best_loss:\n",
    "        best_params = args\n",
    "        best_loss = average_loss\n",
    "    return average_loss\n",
    "\n",
    "def optimize_hyperparameters():\n",
    "    max_node_counts = [32, 64, 128, 256, 512]\n",
    "    dropout_values = [0.2, 0.3, 0.4, 0.5, 0.6]\n",
    "    kernel_reg_list = [0.01, 0.025, 0.05]\n",
    "    bias_reg_list = [0.01, 0.025, 0.05]\n",
    "    case_list = []\n",
    "    for max_node_count in max_node_counts:\n",
    "        for dropout_value in dropout_values:\n",
    "            for kernel_reg in kernel_reg_list:\n",
    "                for bias_reg in bias_reg_list:\n",
    "                    case_list.append((max_node_count, dropout_value, kernel_reg, bias_reg))\n",
    "    feature_space = hyperopt.hp.choice('a', case_list)\n",
    "    fmin(get_average_cross_validation_accuracy, feature_space, algo=tpe.suggest, max_evals=128)\n",
    "\n",
    "optimize_hyperparameters()\n",
    "print(\"Best parameters:\", best_params)\n",
    "print(\"Best loss:\", best_loss)"
   ]
  },
  {
   "cell_type": "markdown",
   "metadata": {},
   "source": [
    "#Train Neural Network"
   ]
  },
  {
   "cell_type": "code",
   "execution_count": 11,
   "metadata": {},
   "outputs": [
    {
     "name": "stdout",
     "output_type": "stream",
     "text": [
      "Epoch 1/20\n",
      " 1/94 [..............................] - ETA: 0s - loss: 21392610.0000WARNING:tensorflow:From C:\\Users\\cmyth\\AppData\\Local\\Programs\\Python\\Python38\\lib\\site-packages\\tensorflow\\python\\ops\\summary_ops_v2.py:1277: stop (from tensorflow.python.eager.profiler) is deprecated and will be removed after 2020-07-01.\n",
      "Instructions for updating:\n",
      "use `tf.profiler.experimental.stop` instead.\n",
      " 2/94 [..............................] - ETA: 2s - loss: 19419290.0000WARNING:tensorflow:Callbacks method `on_train_batch_end` is slow compared to the batch time (batch time: 0.0050s vs `on_train_batch_end` time: 0.0470s). Check your callbacks.\n",
      "94/94 [==============================] - 0s 5ms/step - loss: 10632974.0000 - val_loss: 2768527.0000\n",
      "Epoch 2/20\n",
      "94/94 [==============================] - 0s 3ms/step - loss: 1730793.1250 - val_loss: 105194.0547\n",
      "Epoch 3/20\n",
      "94/94 [==============================] - 0s 4ms/step - loss: 100784.0391 - val_loss: 0.0198\n",
      "Epoch 4/20\n",
      "94/94 [==============================] - 0s 3ms/step - loss: 91.6731 - val_loss: 0.7370\n",
      "Epoch 5/20\n",
      "94/94 [==============================] - 0s 3ms/step - loss: 0.6914 - val_loss: 0.7402\n",
      "Epoch 6/20\n",
      "94/94 [==============================] - 0s 3ms/step - loss: 0.6903 - val_loss: 0.7405\n",
      "Epoch 7/20\n",
      "94/94 [==============================] - 0s 3ms/step - loss: 0.6902 - val_loss: 0.7405\n",
      "Epoch 8/20\n",
      "94/94 [==============================] - 0s 3ms/step - loss: 0.6901 - val_loss: 0.7405\n"
     ]
    },
    {
     "data": {
      "image/png": "[encoded data removed]",
      "text/plain": [
       "<IPython.core.display.Image object>"
      ]
     },
     "execution_count": 11,
     "metadata": {},
     "output_type": "execute_result"
    }
   ],
   "source": [
    "#Train neural network here\n",
    "import os\n",
    "os.mkdir(\"cc_fraud_detector\")\n",
    "\n",
    "callbacks_list = [callbacks.EarlyStopping(monitor='val_loss', patience=5,), callbacks.ModelCheckpoint(filepath='cc_fraud_detector.h5', monitor='val_loss', save_best_only=True,), callbacks.ReduceLROnPlateau(monitor='val_loss', factor=0.1,patience=1,), callbacks.TensorBoard(log_dir=\"cc_fraud_detector\",histogram_freq=1,embeddings_freq=1,)]\n",
    "try:\n",
    "    max_node_count, dropout_value, kernel_reg, bias_reg = best_params\n",
    "except:\n",
    "    max_node_count, dropout_value, kernel_reg, bias_reg = 32, 0.2, 0.025, 0.025\n",
    "\n",
    "network = define_model(max_node_count, dropout_value, kernel_reg, bias_reg)\n",
    "history = network.fit(x=[fraud_data_non_categorical_sample, fraud_data_merchant_sample, fraud_data_category_sample], y=fraud_data_label_sample, epochs=20, batch_size=128, validation_split=0.2, callbacks=callbacks_list)\n",
    "#history = network.fit(x=[fraud_data_non_categorical_sample, fraud_data_category_sample], y=fraud_data_label_sample, epochs=20, batch_size=128, validation_split=0.2, callbacks=callbacks_list)\n",
    "plot_model(network, to_file='cc_fraud_detector.png', show_shapes=True)"
   ]
  },
  {
   "cell_type": "markdown",
   "metadata": {},
   "source": [
    "#False positive and negative rates"
   ]
  },
  {
   "cell_type": "code",
   "execution_count": 13,
   "metadata": {},
   "outputs": [
    {
     "ename": "KeyboardInterrupt",
     "evalue": "",
     "output_type": "error",
     "traceback": [
      "\u001b[1;31m---------------------------------------------------------------------------\u001b[0m",
      "\u001b[1;31mKeyboardInterrupt\u001b[0m                         Traceback (most recent call last)",
      "\u001b[1;32m<ipython-input-13-c5cd75460010>\u001b[0m in \u001b[0;36m<module>\u001b[1;34m\u001b[0m\n\u001b[0;32m     21\u001b[0m     \u001b[0mtest_data_non_categorical\u001b[0m\u001b[1;33m.\u001b[0m\u001b[0mappend\u001b[0m\u001b[1;33m(\u001b[0m\u001b[0mnon_categorical_element\u001b[0m\u001b[1;33m)\u001b[0m\u001b[1;33m\u001b[0m\u001b[1;33m\u001b[0m\u001b[0m\n\u001b[0;32m     22\u001b[0m     \u001b[0mcategorical_element\u001b[0m \u001b[1;33m=\u001b[0m \u001b[0mto_categorical\u001b[0m\u001b[1;33m(\u001b[0m\u001b[0mcategories_tokenized_dict\u001b[0m\u001b[1;33m[\u001b[0m\u001b[0mtest_data_clean\u001b[0m\u001b[1;33m[\u001b[0m\u001b[1;34m\"category\"\u001b[0m\u001b[1;33m]\u001b[0m\u001b[1;33m[\u001b[0m\u001b[0midx\u001b[0m\u001b[1;33m]\u001b[0m\u001b[1;33m]\u001b[0m\u001b[1;33m,\u001b[0m \u001b[0mnum_classes\u001b[0m\u001b[1;33m=\u001b[0m\u001b[0mnum_unique_categories\u001b[0m\u001b[1;33m)\u001b[0m\u001b[1;33m\u001b[0m\u001b[1;33m\u001b[0m\u001b[0m\n\u001b[1;32m---> 23\u001b[1;33m     \u001b[0mtest_data_merchant_category\u001b[0m\u001b[1;33m.\u001b[0m\u001b[0mappend\u001b[0m\u001b[1;33m(\u001b[0m\u001b[0mto_categorical\u001b[0m\u001b[1;33m(\u001b[0m\u001b[0mmerchant_tokenized_dict\u001b[0m\u001b[1;33m[\u001b[0m\u001b[0mtest_data_clean\u001b[0m\u001b[1;33m[\u001b[0m\u001b[1;34m\"merchant\"\u001b[0m\u001b[1;33m]\u001b[0m\u001b[1;33m[\u001b[0m\u001b[0midx\u001b[0m\u001b[1;33m]\u001b[0m\u001b[1;33m]\u001b[0m\u001b[1;33m,\u001b[0m \u001b[0mnum_classes\u001b[0m\u001b[1;33m=\u001b[0m\u001b[0mnum_unique_merchants\u001b[0m\u001b[1;33m)\u001b[0m\u001b[1;33m)\u001b[0m\u001b[1;33m\u001b[0m\u001b[1;33m\u001b[0m\u001b[0m\n\u001b[0m\u001b[0;32m     24\u001b[0m     \u001b[0mtest_data_product_category\u001b[0m\u001b[1;33m.\u001b[0m\u001b[0mappend\u001b[0m\u001b[1;33m(\u001b[0m\u001b[0mcategorical_element\u001b[0m\u001b[1;33m)\u001b[0m\u001b[1;33m\u001b[0m\u001b[1;33m\u001b[0m\u001b[0m\n\u001b[0;32m     25\u001b[0m     \u001b[0mtest_data_fraud_value\u001b[0m\u001b[1;33m.\u001b[0m\u001b[0mappend\u001b[0m\u001b[1;33m(\u001b[0m\u001b[1;33m[\u001b[0m\u001b[0mtest_data_clean\u001b[0m\u001b[1;33m[\u001b[0m\u001b[1;34m\"is_fraud\"\u001b[0m\u001b[1;33m]\u001b[0m\u001b[1;33m[\u001b[0m\u001b[0midx\u001b[0m\u001b[1;33m]\u001b[0m\u001b[1;33m]\u001b[0m\u001b[1;33m)\u001b[0m\u001b[1;33m\u001b[0m\u001b[1;33m\u001b[0m\u001b[0m\n",
      "\u001b[1;32m~\\AppData\\Local\\Programs\\Python\\Python38\\lib\\site-packages\\tensorflow\\python\\keras\\utils\\np_utils.py\u001b[0m in \u001b[0;36mto_categorical\u001b[1;34m(y, num_classes, dtype)\u001b[0m\n\u001b[0;32m     76\u001b[0m   \u001b[0mn\u001b[0m \u001b[1;33m=\u001b[0m \u001b[0my\u001b[0m\u001b[1;33m.\u001b[0m\u001b[0mshape\u001b[0m\u001b[1;33m[\u001b[0m\u001b[1;36m0\u001b[0m\u001b[1;33m]\u001b[0m\u001b[1;33m\u001b[0m\u001b[1;33m\u001b[0m\u001b[0m\n\u001b[0;32m     77\u001b[0m   \u001b[0mcategorical\u001b[0m \u001b[1;33m=\u001b[0m \u001b[0mnp\u001b[0m\u001b[1;33m.\u001b[0m\u001b[0mzeros\u001b[0m\u001b[1;33m(\u001b[0m\u001b[1;33m(\u001b[0m\u001b[0mn\u001b[0m\u001b[1;33m,\u001b[0m \u001b[0mnum_classes\u001b[0m\u001b[1;33m)\u001b[0m\u001b[1;33m,\u001b[0m \u001b[0mdtype\u001b[0m\u001b[1;33m=\u001b[0m\u001b[0mdtype\u001b[0m\u001b[1;33m)\u001b[0m\u001b[1;33m\u001b[0m\u001b[1;33m\u001b[0m\u001b[0m\n\u001b[1;32m---> 78\u001b[1;33m   \u001b[0mcategorical\u001b[0m\u001b[1;33m[\u001b[0m\u001b[0mnp\u001b[0m\u001b[1;33m.\u001b[0m\u001b[0marange\u001b[0m\u001b[1;33m(\u001b[0m\u001b[0mn\u001b[0m\u001b[1;33m)\u001b[0m\u001b[1;33m,\u001b[0m \u001b[0my\u001b[0m\u001b[1;33m]\u001b[0m \u001b[1;33m=\u001b[0m \u001b[1;36m1\u001b[0m\u001b[1;33m\u001b[0m\u001b[1;33m\u001b[0m\u001b[0m\n\u001b[0m\u001b[0;32m     79\u001b[0m   \u001b[0moutput_shape\u001b[0m \u001b[1;33m=\u001b[0m \u001b[0minput_shape\u001b[0m \u001b[1;33m+\u001b[0m \u001b[1;33m(\u001b[0m\u001b[0mnum_classes\u001b[0m\u001b[1;33m,\u001b[0m\u001b[1;33m)\u001b[0m\u001b[1;33m\u001b[0m\u001b[1;33m\u001b[0m\u001b[0m\n\u001b[0;32m     80\u001b[0m   \u001b[0mcategorical\u001b[0m \u001b[1;33m=\u001b[0m \u001b[0mnp\u001b[0m\u001b[1;33m.\u001b[0m\u001b[0mreshape\u001b[0m\u001b[1;33m(\u001b[0m\u001b[0mcategorical\u001b[0m\u001b[1;33m,\u001b[0m \u001b[0moutput_shape\u001b[0m\u001b[1;33m)\u001b[0m\u001b[1;33m\u001b[0m\u001b[1;33m\u001b[0m\u001b[0m\n",
      "\u001b[1;31mKeyboardInterrupt\u001b[0m: "
     ]
    }
   ],
   "source": [
    "#initialize false positive and negative rates\n",
    "false_pos = 0\n",
    "false_neg = 0\n",
    "true_pos = 0\n",
    "true_neg = 0\n",
    "\n",
    "#load credit_card_fraud_clean_test.csv and format\n",
    "test_data_non_categorical = []\n",
    "test_data_merchant_category = []\n",
    "test_data_product_category = []\n",
    "test_data_fraud_value = []\n",
    "for idx in range(len(test_data_clean[\"cc_num\"])):\n",
    "    non_categorical_element = []\n",
    "    #element.append(training_data_clean[\"cc_num\"][idx])\n",
    "    non_categorical_element.append(test_data_clean[\"amt\"][idx])\n",
    "    non_categorical_element.append(test_data_clean[\"lat\"][idx])\n",
    "    non_categorical_element.append(test_data_clean[\"long\"][idx])\n",
    "    non_categorical_element.append(test_data_clean[\"unix_time\"][idx])\n",
    "    non_categorical_element.append(test_data_clean[\"merch_lat\"][idx])\n",
    "    non_categorical_element.append(test_data_clean[\"merch_long\"][idx])\n",
    "    test_data_non_categorical.append(non_categorical_element)\n",
    "    categorical_element = to_categorical(categories_tokenized_dict[test_data_clean[\"category\"][idx]], num_classes=num_unique_categories)\n",
    "    test_data_merchant_category.append(to_categorical(merchant_tokenized_dict[test_data_clean[\"merchant\"][idx]], num_classes=num_unique_merchants))\n",
    "    test_data_product_category.append(categorical_element)\n",
    "    test_data_fraud_value.append([test_data_clean[\"is_fraud\"][idx]])\n",
    "\n",
    "test_data_non_categorical = np.array(test_data_non_categorical)\n",
    "test_data_merchant_category = np.array(test_data_merchant_category)\n",
    "test_data_product_category = np.array(test_data_product_category)\n",
    "test_data_fraud_value = np.array(test_data_fraud_value)\n",
    "\n",
    "network = load_model(\"cc_fraud_detector.h5\")"
   ]
  },
  {
   "cell_type": "markdown",
   "metadata": {},
   "source": [
    "#Evaluate on test set"
   ]
  },
  {
   "cell_type": "code",
   "execution_count": null,
   "metadata": {},
   "outputs": [],
   "source": [
    "#evaluate"
   ]
  }
 ],
 "metadata": {
  "interpreter": {
   "hash": "b4a56ac7d8a0ccd50127e345ccc30f7d61dbad599a11a46d4752f0ccdb34e3a5"
  },
  "kernelspec": {
   "display_name": "Python 3.8.6 64-bit",
   "name": "python3"
  },
  "language_info": {
   "codemirror_mode": {
    "name": "ipython",
    "version": 3
   },
   "file_extension": ".py",
   "mimetype": "text/x-python",
   "name": "python",
   "nbconvert_exporter": "python",
   "pygments_lexer": "ipython3",
   "version": "3.8.6"
  },
  "orig_nbformat": 4
 },
 "nbformat": 4,
 "nbformat_minor": 2
}
